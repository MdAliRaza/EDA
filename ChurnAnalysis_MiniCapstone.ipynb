{
 "cells": [
  {
   "cell_type": "markdown",
   "metadata": {},
   "source": [
    "## **Telco Customer Churn Data**\n",
    "\n",
    "### Introduction\n",
    "\n",
    "The Telco customer churn data contains information about a fictional telco company that provided home phone and Internet services to 7043 customers in California in Q3. It indicates which customers have left, stayed, or signed up for their service. Multiple important demographics are included for each customer, as well as a Satisfaction Score, Churn Score, and Customer Lifetime Value (CLTV) index.\n",
    "\n",
    "| **Variable**| **Description**| **Type** |\n",
    "| - | - | - |\n",
    "| CustomerID | A unique ID that identifies each customer | categorical |\n",
    "| Count | A value used in reporting/dashboarding to sum up the number of customers| numerical |\n",
    "| Country| The country of the customer| categorical |\n",
    "| State| The state of the customer| categorical |\n",
    "| City| The city of the customer| categorical |\n",
    "| Zip Code| The zip code of the customer| categorical |\n",
    "| Lat Long| The combined latitude and longitude of the customer| categorical |\n",
    "| Latitude| The latitude of the customer|  numerical |\n",
    "| Longitude| The longitude of the customer|  numerical |\n",
    "| Gender| The customer’s gender| categorical |\n",
    "| Senior Citizen| Indicates if the customer is 65 or older| categorical |\n",
    "| Partner| Indicate if the customer has a partner| categorical |\n",
    "| Dependents| Indicates if the customer lives with any dependents| categorical |\n",
    "| Tenure Months| Customer has been with the company by the end of the quarter specified above.| numerical |\n",
    "| Phone Service| Subscribes to home phone service with the company | categorical |\n",
    "| Multiple Lines| Subscribes to multiple telephone lines with the company | categorical |\n",
    "| Internet Service| Subscribes to Internet service with the company: No, DSL, Fiber Optic, Cable.| categorical |\n",
    "| Online Security| Online security service provided by the company | categorical |\n",
    "| Online Backup| Online backup service provided by the company | categorical |\n",
    "| Device Protection| Device protection plan for their Internet equipment provided by the company |categorical |\n",
    "| Tech Support| Technical support plan from the company with reduced wait times | categorical |\n",
    "| Streaming TV| Customer uses their Internet service to stream television programing from a third party provider | categorical |\n",
    "| Streaming Movies| Customer uses their Internet service to stream movies from a third party provider | categorical |\n",
    "| Contract | Customer’s current contract type| categorical |\n",
    "| Paperless Billing | Customer has chosen paperless billing | categorical |\n",
    "| Payment Method | Customer pays their bill: Bank Withdrawal, Credit Card, Mailed Check| categorical |\n",
    "| Monthly Charge | Current total monthly charge for all their services from the company | numerical |\n",
    "| Total Charges | Total charges, calculated to the end of the quarter specified above | numerical |\n",
    "| Churn Label | Yes = the customer left the company this quarter. No = the customer remained with the company| categorical |\n",
    "| Churn Value | 1 = the customer left the company this quarter. 0 = the customer remained with the company|  categorical |\n",
    "| Churn Score | A value from 0-100 that is calculated using the predictive tool| numerical |\n",
    "| CLTV |Calculated using corporate formulas and existing data | numerical |\n",
    "| Churn Reason | A customer’s specific reason for leaving the company. Directly related to Churn Category | categorical |\n",
    "\n",
    "\n",
    "\n",
    "Count of variables we have:\n",
    "\n",
    "|**Type**|**Count**|\n",
    "|-|-|\n",
    "|categorical|25|\n",
    "|numerical|8|"
   ]
  },
  {
   "cell_type": "code",
   "execution_count": 204,
   "metadata": {},
   "outputs": [],
   "source": [
    "# importing required libraries\n",
    "import numpy as np # data handling library\n",
    "import pandas as pd # data manipulation library\n",
    "import matplotlib.pyplot as plt # data visualization library\n",
    "import seaborn as sns # data visualization library\n",
    "import missingno as msno # data visualization library for missing data"
   ]
  },
  {
   "cell_type": "markdown",
   "metadata": {},
   "source": [
    "#### Q1: Please read the file and explain data types statistically as well as how python is reading it. Please let us know if any data type is read wrong."
   ]
  },
  {
   "cell_type": "code",
   "execution_count": 205,
   "metadata": {},
   "outputs": [],
   "source": [
    "df = pd.read_excel(r'C:\\Users\\ASUS\\Desktop\\python\\mini_capstone\\Telco_customer_churn.xlsx') # importing the data"
   ]
  },
  {
   "cell_type": "code",
   "execution_count": 206,
   "metadata": {},
   "outputs": [
    {
     "data": {
      "text/plain": [
       "(7043, 33)"
      ]
     },
     "execution_count": 206,
     "metadata": {},
     "output_type": "execute_result"
    }
   ],
   "source": [
    "df.shape # shape of our data"
   ]
  },
  {
   "cell_type": "code",
   "execution_count": 207,
   "metadata": {},
   "outputs": [
    {
     "name": "stdout",
     "output_type": "stream",
     "text": [
      "Number of observations    :  7043\n",
      "Number of variables       :  33\n"
     ]
    }
   ],
   "source": [
    "print('Number of observations    : ', df.shape[0]) # number of rows in dataset\n",
    "print('Number of variables       : ', df.shape[1]) # number of columns in dataset"
   ]
  },
  {
   "cell_type": "code",
   "execution_count": 208,
   "metadata": {},
   "outputs": [
    {
     "data": {
      "text/plain": [
       "(7043, 33)"
      ]
     },
     "execution_count": 208,
     "metadata": {},
     "output_type": "execute_result"
    }
   ],
   "source": [
    "df = df.drop_duplicates() # dropping duplicates\n",
    "df.shape # checking shape of data after dropping duplicates"
   ]
  },
  {
   "cell_type": "code",
   "execution_count": 209,
   "metadata": {},
   "outputs": [
    {
     "data": {
      "text/plain": [
       "Index(['CustomerID', 'Count', 'Country', 'State', 'City', 'Zip Code',\n",
       "       'Lat Long', 'Latitude', 'Longitude', 'Gender', 'Senior Citizen',\n",
       "       'Partner', 'Dependents', 'Tenure Months', 'Phone Service',\n",
       "       'Multiple Lines', 'Internet Service', 'Online Security',\n",
       "       'Online Backup', 'Device Protection', 'Tech Support', 'Streaming TV',\n",
       "       'Streaming Movies', 'Contract', 'Paperless Billing', 'Payment Method',\n",
       "       'Monthly Charges', 'Total Charges', 'Churn Label', 'Churn Value',\n",
       "       'Churn Score', 'CLTV', 'Churn Reason'],\n",
       "      dtype='object')"
      ]
     },
     "execution_count": 209,
     "metadata": {},
     "output_type": "execute_result"
    }
   ],
   "source": [
    "df.columns # columns we have in our dataset"
   ]
  },
  {
   "cell_type": "code",
   "execution_count": 210,
   "metadata": {},
   "outputs": [
    {
     "data": {
      "text/plain": [
       "Index(['CustomerID', 'Count', 'Country', 'State', 'City', 'ZipCode', 'LatLong',\n",
       "       'Latitude', 'Longitude', 'Gender', 'SeniorCitizen', 'Partner',\n",
       "       'Dependents', 'TenureMonths', 'PhoneService', 'MultipleLines',\n",
       "       'InternetService', 'OnlineSecurity', 'OnlineBackup', 'DeviceProtection',\n",
       "       'TechSupport', 'StreamingTV', 'StreamingMovies', 'Contract',\n",
       "       'PaperlessBilling', 'PaymentMethod', 'MonthlyCharges', 'TotalCharges',\n",
       "       'ChurnLabel', 'ChurnValue', 'ChurnScore', 'CLTV', 'ChurnReason'],\n",
       "      dtype='object')"
      ]
     },
     "execution_count": 210,
     "metadata": {},
     "output_type": "execute_result"
    }
   ],
   "source": [
    "# for better analysis removing extra spaces from variables \n",
    "df = df.rename(columns={'Zip Code':'ZipCode',\n",
    "                'Lat Long':'LatLong',\n",
    "                'Senior Citizen':'SeniorCitizen',\n",
    "                'Tenure Months':'TenureMonths',\n",
    "                'Phone Service':'PhoneService',\n",
    "                'Multiple Lines':'MultipleLines', \n",
    "                'Internet Service':'InternetService',\n",
    "                'Online Security':'OnlineSecurity',\n",
    "                'Online Backup':'OnlineBackup',\n",
    "                'Device Protection':'DeviceProtection',\n",
    "                'Tech Support':'TechSupport',\n",
    "                'Streaming TV':'StreamingTV',\n",
    "                'Streaming Movies':'StreamingMovies',\n",
    "                'Paperless Billing':'PaperlessBilling',\n",
    "                'Payment Method':'PaymentMethod',\n",
    "                'Monthly Charges':'MonthlyCharges',\n",
    "                'Total Charges':'TotalCharges', \n",
    "                'Churn Label':'ChurnLabel', \n",
    "                'Churn Value':'ChurnValue',\n",
    "                'Churn Score':'ChurnScore', \n",
    "                'Churn Reason':'ChurnReason'})\n",
    "df.columns # viewing columns if they got renamed or not"
   ]
  },
  {
   "cell_type": "code",
   "execution_count": 211,
   "metadata": {},
   "outputs": [
    {
     "data": {
      "text/html": [
       "<div>\n",
       "<style scoped>\n",
       "    .dataframe tbody tr th:only-of-type {\n",
       "        vertical-align: middle;\n",
       "    }\n",
       "\n",
       "    .dataframe tbody tr th {\n",
       "        vertical-align: top;\n",
       "    }\n",
       "\n",
       "    .dataframe thead th {\n",
       "        text-align: right;\n",
       "    }\n",
       "</style>\n",
       "<table border=\"1\" class=\"dataframe\">\n",
       "  <thead>\n",
       "    <tr style=\"text-align: right;\">\n",
       "      <th></th>\n",
       "      <th>0</th>\n",
       "      <th>1</th>\n",
       "      <th>2</th>\n",
       "      <th>3</th>\n",
       "      <th>4</th>\n",
       "    </tr>\n",
       "  </thead>\n",
       "  <tbody>\n",
       "    <tr>\n",
       "      <th>CustomerID</th>\n",
       "      <td>3668-QPYBK</td>\n",
       "      <td>9237-HQITU</td>\n",
       "      <td>9305-CDSKC</td>\n",
       "      <td>7892-POOKP</td>\n",
       "      <td>0280-XJGEX</td>\n",
       "    </tr>\n",
       "    <tr>\n",
       "      <th>Count</th>\n",
       "      <td>1.0</td>\n",
       "      <td>1.0</td>\n",
       "      <td>1.0</td>\n",
       "      <td>1.0</td>\n",
       "      <td>1.0</td>\n",
       "    </tr>\n",
       "    <tr>\n",
       "      <th>Country</th>\n",
       "      <td>United States</td>\n",
       "      <td>United States</td>\n",
       "      <td>United States</td>\n",
       "      <td>United States</td>\n",
       "      <td>United States</td>\n",
       "    </tr>\n",
       "    <tr>\n",
       "      <th>State</th>\n",
       "      <td>California</td>\n",
       "      <td>California</td>\n",
       "      <td>California</td>\n",
       "      <td>California</td>\n",
       "      <td>California</td>\n",
       "    </tr>\n",
       "    <tr>\n",
       "      <th>City</th>\n",
       "      <td>Los Angeles</td>\n",
       "      <td>Los Angeles</td>\n",
       "      <td>Los Angeles</td>\n",
       "      <td>Los Angeles</td>\n",
       "      <td>Los Angeles</td>\n",
       "    </tr>\n",
       "    <tr>\n",
       "      <th>ZipCode</th>\n",
       "      <td>90003.0</td>\n",
       "      <td>90005.0</td>\n",
       "      <td>90006.0</td>\n",
       "      <td>90010.0</td>\n",
       "      <td>90015.0</td>\n",
       "    </tr>\n",
       "    <tr>\n",
       "      <th>LatLong</th>\n",
       "      <td>33.964131, -118.272783</td>\n",
       "      <td>34.059281, -118.30742</td>\n",
       "      <td>34.048013, -118.293953</td>\n",
       "      <td>34.062125, -118.315709</td>\n",
       "      <td>34.039224, -118.266293</td>\n",
       "    </tr>\n",
       "    <tr>\n",
       "      <th>Latitude</th>\n",
       "      <td>33.964131</td>\n",
       "      <td>34.059281</td>\n",
       "      <td>34.048013</td>\n",
       "      <td>34.062125</td>\n",
       "      <td>34.039224</td>\n",
       "    </tr>\n",
       "    <tr>\n",
       "      <th>Longitude</th>\n",
       "      <td>-118.272783</td>\n",
       "      <td>-118.30742</td>\n",
       "      <td>-118.293953</td>\n",
       "      <td>-118.315709</td>\n",
       "      <td>-118.266293</td>\n",
       "    </tr>\n",
       "    <tr>\n",
       "      <th>Gender</th>\n",
       "      <td>Male</td>\n",
       "      <td>Female</td>\n",
       "      <td>Female</td>\n",
       "      <td>Female</td>\n",
       "      <td>Male</td>\n",
       "    </tr>\n",
       "    <tr>\n",
       "      <th>SeniorCitizen</th>\n",
       "      <td>No</td>\n",
       "      <td>No</td>\n",
       "      <td>No</td>\n",
       "      <td>No</td>\n",
       "      <td>No</td>\n",
       "    </tr>\n",
       "    <tr>\n",
       "      <th>Partner</th>\n",
       "      <td>No</td>\n",
       "      <td>No</td>\n",
       "      <td>No</td>\n",
       "      <td>Yes</td>\n",
       "      <td>No</td>\n",
       "    </tr>\n",
       "    <tr>\n",
       "      <th>Dependents</th>\n",
       "      <td>No</td>\n",
       "      <td>Yes</td>\n",
       "      <td>Yes</td>\n",
       "      <td>Yes</td>\n",
       "      <td>Yes</td>\n",
       "    </tr>\n",
       "    <tr>\n",
       "      <th>TenureMonths</th>\n",
       "      <td>2.0</td>\n",
       "      <td>2.0</td>\n",
       "      <td>8.0</td>\n",
       "      <td>28.0</td>\n",
       "      <td>49.0</td>\n",
       "    </tr>\n",
       "    <tr>\n",
       "      <th>PhoneService</th>\n",
       "      <td>Yes</td>\n",
       "      <td>Yes</td>\n",
       "      <td>Yes</td>\n",
       "      <td>Yes</td>\n",
       "      <td>Yes</td>\n",
       "    </tr>\n",
       "    <tr>\n",
       "      <th>MultipleLines</th>\n",
       "      <td>No</td>\n",
       "      <td>No</td>\n",
       "      <td>Yes</td>\n",
       "      <td>Yes</td>\n",
       "      <td>Yes</td>\n",
       "    </tr>\n",
       "    <tr>\n",
       "      <th>InternetService</th>\n",
       "      <td>DSL</td>\n",
       "      <td>Fiber optic</td>\n",
       "      <td>Fiber optic</td>\n",
       "      <td>Fiber optic</td>\n",
       "      <td>Fiber optic</td>\n",
       "    </tr>\n",
       "    <tr>\n",
       "      <th>OnlineSecurity</th>\n",
       "      <td>Yes</td>\n",
       "      <td>No</td>\n",
       "      <td>No</td>\n",
       "      <td>No</td>\n",
       "      <td>No</td>\n",
       "    </tr>\n",
       "    <tr>\n",
       "      <th>OnlineBackup</th>\n",
       "      <td>Yes</td>\n",
       "      <td>No</td>\n",
       "      <td>No</td>\n",
       "      <td>No</td>\n",
       "      <td>Yes</td>\n",
       "    </tr>\n",
       "    <tr>\n",
       "      <th>DeviceProtection</th>\n",
       "      <td>No</td>\n",
       "      <td>No</td>\n",
       "      <td>Yes</td>\n",
       "      <td>Yes</td>\n",
       "      <td>Yes</td>\n",
       "    </tr>\n",
       "    <tr>\n",
       "      <th>TechSupport</th>\n",
       "      <td>No</td>\n",
       "      <td>No</td>\n",
       "      <td>No</td>\n",
       "      <td>Yes</td>\n",
       "      <td>No</td>\n",
       "    </tr>\n",
       "    <tr>\n",
       "      <th>StreamingTV</th>\n",
       "      <td>No</td>\n",
       "      <td>No</td>\n",
       "      <td>Yes</td>\n",
       "      <td>Yes</td>\n",
       "      <td>Yes</td>\n",
       "    </tr>\n",
       "    <tr>\n",
       "      <th>StreamingMovies</th>\n",
       "      <td>No</td>\n",
       "      <td>No</td>\n",
       "      <td>Yes</td>\n",
       "      <td>Yes</td>\n",
       "      <td>Yes</td>\n",
       "    </tr>\n",
       "    <tr>\n",
       "      <th>Contract</th>\n",
       "      <td>Month-to-month</td>\n",
       "      <td>Month-to-month</td>\n",
       "      <td>Month-to-month</td>\n",
       "      <td>Month-to-month</td>\n",
       "      <td>Month-to-month</td>\n",
       "    </tr>\n",
       "    <tr>\n",
       "      <th>PaperlessBilling</th>\n",
       "      <td>Yes</td>\n",
       "      <td>Yes</td>\n",
       "      <td>Yes</td>\n",
       "      <td>Yes</td>\n",
       "      <td>Yes</td>\n",
       "    </tr>\n",
       "    <tr>\n",
       "      <th>PaymentMethod</th>\n",
       "      <td>Mailed check</td>\n",
       "      <td>Electronic check</td>\n",
       "      <td>Electronic check</td>\n",
       "      <td>Electronic check</td>\n",
       "      <td>Bank transfer (automatic)</td>\n",
       "    </tr>\n",
       "    <tr>\n",
       "      <th>MonthlyCharges</th>\n",
       "      <td>53.85</td>\n",
       "      <td>70.7</td>\n",
       "      <td>99.65</td>\n",
       "      <td>104.8</td>\n",
       "      <td>103.7</td>\n",
       "    </tr>\n",
       "    <tr>\n",
       "      <th>TotalCharges</th>\n",
       "      <td>108.15</td>\n",
       "      <td>151.65</td>\n",
       "      <td>820.5</td>\n",
       "      <td>3046.05</td>\n",
       "      <td>5036.3</td>\n",
       "    </tr>\n",
       "    <tr>\n",
       "      <th>ChurnLabel</th>\n",
       "      <td>Yes</td>\n",
       "      <td>Yes</td>\n",
       "      <td>Yes</td>\n",
       "      <td>Yes</td>\n",
       "      <td>Yes</td>\n",
       "    </tr>\n",
       "    <tr>\n",
       "      <th>ChurnValue</th>\n",
       "      <td>1.0</td>\n",
       "      <td>1.0</td>\n",
       "      <td>1.0</td>\n",
       "      <td>1.0</td>\n",
       "      <td>1.0</td>\n",
       "    </tr>\n",
       "    <tr>\n",
       "      <th>ChurnScore</th>\n",
       "      <td>86.0</td>\n",
       "      <td>67.0</td>\n",
       "      <td>86.0</td>\n",
       "      <td>84.0</td>\n",
       "      <td>89.0</td>\n",
       "    </tr>\n",
       "    <tr>\n",
       "      <th>CLTV</th>\n",
       "      <td>3239.0</td>\n",
       "      <td>2701.0</td>\n",
       "      <td>5372.0</td>\n",
       "      <td>5003.0</td>\n",
       "      <td>5340.0</td>\n",
       "    </tr>\n",
       "    <tr>\n",
       "      <th>ChurnReason</th>\n",
       "      <td>Competitor made better offer</td>\n",
       "      <td>Moved</td>\n",
       "      <td>Moved</td>\n",
       "      <td>Moved</td>\n",
       "      <td>Competitor had better devices</td>\n",
       "    </tr>\n",
       "  </tbody>\n",
       "</table>\n",
       "</div>"
      ],
      "text/plain": [
       "                                             0                      1  \\\n",
       "CustomerID                          3668-QPYBK             9237-HQITU   \n",
       "Count                                      1.0                    1.0   \n",
       "Country                          United States          United States   \n",
       "State                               California             California   \n",
       "City                               Los Angeles            Los Angeles   \n",
       "ZipCode                                90003.0                90005.0   \n",
       "LatLong                 33.964131, -118.272783  34.059281, -118.30742   \n",
       "Latitude                             33.964131              34.059281   \n",
       "Longitude                          -118.272783             -118.30742   \n",
       "Gender                                    Male                 Female   \n",
       "SeniorCitizen                               No                     No   \n",
       "Partner                                     No                     No   \n",
       "Dependents                                  No                    Yes   \n",
       "TenureMonths                               2.0                    2.0   \n",
       "PhoneService                               Yes                    Yes   \n",
       "MultipleLines                               No                     No   \n",
       "InternetService                            DSL            Fiber optic   \n",
       "OnlineSecurity                             Yes                     No   \n",
       "OnlineBackup                               Yes                     No   \n",
       "DeviceProtection                            No                     No   \n",
       "TechSupport                                 No                     No   \n",
       "StreamingTV                                 No                     No   \n",
       "StreamingMovies                             No                     No   \n",
       "Contract                        Month-to-month         Month-to-month   \n",
       "PaperlessBilling                           Yes                    Yes   \n",
       "PaymentMethod                     Mailed check       Electronic check   \n",
       "MonthlyCharges                           53.85                   70.7   \n",
       "TotalCharges                            108.15                 151.65   \n",
       "ChurnLabel                                 Yes                    Yes   \n",
       "ChurnValue                                 1.0                    1.0   \n",
       "ChurnScore                                86.0                   67.0   \n",
       "CLTV                                    3239.0                 2701.0   \n",
       "ChurnReason       Competitor made better offer                  Moved   \n",
       "\n",
       "                                       2                       3  \\\n",
       "CustomerID                    9305-CDSKC              7892-POOKP   \n",
       "Count                                1.0                     1.0   \n",
       "Country                    United States           United States   \n",
       "State                         California              California   \n",
       "City                         Los Angeles             Los Angeles   \n",
       "ZipCode                          90006.0                 90010.0   \n",
       "LatLong           34.048013, -118.293953  34.062125, -118.315709   \n",
       "Latitude                       34.048013               34.062125   \n",
       "Longitude                    -118.293953             -118.315709   \n",
       "Gender                            Female                  Female   \n",
       "SeniorCitizen                         No                      No   \n",
       "Partner                               No                     Yes   \n",
       "Dependents                           Yes                     Yes   \n",
       "TenureMonths                         8.0                    28.0   \n",
       "PhoneService                         Yes                     Yes   \n",
       "MultipleLines                        Yes                     Yes   \n",
       "InternetService              Fiber optic             Fiber optic   \n",
       "OnlineSecurity                        No                      No   \n",
       "OnlineBackup                          No                      No   \n",
       "DeviceProtection                     Yes                     Yes   \n",
       "TechSupport                           No                     Yes   \n",
       "StreamingTV                          Yes                     Yes   \n",
       "StreamingMovies                      Yes                     Yes   \n",
       "Contract                  Month-to-month          Month-to-month   \n",
       "PaperlessBilling                     Yes                     Yes   \n",
       "PaymentMethod           Electronic check        Electronic check   \n",
       "MonthlyCharges                     99.65                   104.8   \n",
       "TotalCharges                       820.5                 3046.05   \n",
       "ChurnLabel                           Yes                     Yes   \n",
       "ChurnValue                           1.0                     1.0   \n",
       "ChurnScore                          86.0                    84.0   \n",
       "CLTV                              5372.0                  5003.0   \n",
       "ChurnReason                        Moved                   Moved   \n",
       "\n",
       "                                              4  \n",
       "CustomerID                           0280-XJGEX  \n",
       "Count                                       1.0  \n",
       "Country                           United States  \n",
       "State                                California  \n",
       "City                                Los Angeles  \n",
       "ZipCode                                 90015.0  \n",
       "LatLong                  34.039224, -118.266293  \n",
       "Latitude                              34.039224  \n",
       "Longitude                           -118.266293  \n",
       "Gender                                     Male  \n",
       "SeniorCitizen                                No  \n",
       "Partner                                      No  \n",
       "Dependents                                  Yes  \n",
       "TenureMonths                               49.0  \n",
       "PhoneService                                Yes  \n",
       "MultipleLines                               Yes  \n",
       "InternetService                     Fiber optic  \n",
       "OnlineSecurity                               No  \n",
       "OnlineBackup                                Yes  \n",
       "DeviceProtection                            Yes  \n",
       "TechSupport                                  No  \n",
       "StreamingTV                                 Yes  \n",
       "StreamingMovies                             Yes  \n",
       "Contract                         Month-to-month  \n",
       "PaperlessBilling                            Yes  \n",
       "PaymentMethod         Bank transfer (automatic)  \n",
       "MonthlyCharges                            103.7  \n",
       "TotalCharges                             5036.3  \n",
       "ChurnLabel                                  Yes  \n",
       "ChurnValue                                  1.0  \n",
       "ChurnScore                                 89.0  \n",
       "CLTV                                     5340.0  \n",
       "ChurnReason       Competitor had better devices  "
      ]
     },
     "execution_count": 211,
     "metadata": {},
     "output_type": "execute_result"
    }
   ],
   "source": [
    "df.head().T # viewing first 5 rows in transverse"
   ]
  },
  {
   "cell_type": "code",
   "execution_count": 212,
   "metadata": {},
   "outputs": [
    {
     "data": {
      "text/html": [
       "<div>\n",
       "<style scoped>\n",
       "    .dataframe tbody tr th:only-of-type {\n",
       "        vertical-align: middle;\n",
       "    }\n",
       "\n",
       "    .dataframe tbody tr th {\n",
       "        vertical-align: top;\n",
       "    }\n",
       "\n",
       "    .dataframe thead th {\n",
       "        text-align: right;\n",
       "    }\n",
       "</style>\n",
       "<table border=\"1\" class=\"dataframe\">\n",
       "  <thead>\n",
       "    <tr style=\"text-align: right;\">\n",
       "      <th></th>\n",
       "      <th>7038</th>\n",
       "      <th>7039</th>\n",
       "      <th>7040</th>\n",
       "      <th>7041</th>\n",
       "      <th>7042</th>\n",
       "    </tr>\n",
       "  </thead>\n",
       "  <tbody>\n",
       "    <tr>\n",
       "      <th>CustomerID</th>\n",
       "      <td>2569-WGERO</td>\n",
       "      <td>6840-RESVB</td>\n",
       "      <td>2234-XADUH</td>\n",
       "      <td>4801-JZAZL</td>\n",
       "      <td>3186-AJIEK</td>\n",
       "    </tr>\n",
       "    <tr>\n",
       "      <th>Count</th>\n",
       "      <td>1.0</td>\n",
       "      <td>1.0</td>\n",
       "      <td>1.0</td>\n",
       "      <td>1.0</td>\n",
       "      <td>1.0</td>\n",
       "    </tr>\n",
       "    <tr>\n",
       "      <th>Country</th>\n",
       "      <td>United States</td>\n",
       "      <td>United States</td>\n",
       "      <td>United States</td>\n",
       "      <td>United States</td>\n",
       "      <td>United States</td>\n",
       "    </tr>\n",
       "    <tr>\n",
       "      <th>State</th>\n",
       "      <td>California</td>\n",
       "      <td>California</td>\n",
       "      <td>California</td>\n",
       "      <td>California</td>\n",
       "      <td>California</td>\n",
       "    </tr>\n",
       "    <tr>\n",
       "      <th>City</th>\n",
       "      <td>Landers</td>\n",
       "      <td>Adelanto</td>\n",
       "      <td>Amboy</td>\n",
       "      <td>Angelus Oaks</td>\n",
       "      <td>Apple Valley</td>\n",
       "    </tr>\n",
       "    <tr>\n",
       "      <th>ZipCode</th>\n",
       "      <td>92285.0</td>\n",
       "      <td>92301.0</td>\n",
       "      <td>92304.0</td>\n",
       "      <td>92305.0</td>\n",
       "      <td>92308.0</td>\n",
       "    </tr>\n",
       "    <tr>\n",
       "      <th>LatLong</th>\n",
       "      <td>34.341737, -116.539416</td>\n",
       "      <td>34.667815, -117.536183</td>\n",
       "      <td>34.559882, -115.637164</td>\n",
       "      <td>34.1678, -116.86433</td>\n",
       "      <td>34.424926, -117.184503</td>\n",
       "    </tr>\n",
       "    <tr>\n",
       "      <th>Latitude</th>\n",
       "      <td>34.341737</td>\n",
       "      <td>34.667815</td>\n",
       "      <td>34.559882</td>\n",
       "      <td>34.1678</td>\n",
       "      <td>34.424926</td>\n",
       "    </tr>\n",
       "    <tr>\n",
       "      <th>Longitude</th>\n",
       "      <td>-116.539416</td>\n",
       "      <td>-117.536183</td>\n",
       "      <td>-115.637164</td>\n",
       "      <td>-116.86433</td>\n",
       "      <td>-117.184503</td>\n",
       "    </tr>\n",
       "    <tr>\n",
       "      <th>Gender</th>\n",
       "      <td>Female</td>\n",
       "      <td>Male</td>\n",
       "      <td>Female</td>\n",
       "      <td>Female</td>\n",
       "      <td>Male</td>\n",
       "    </tr>\n",
       "    <tr>\n",
       "      <th>SeniorCitizen</th>\n",
       "      <td>No</td>\n",
       "      <td>No</td>\n",
       "      <td>No</td>\n",
       "      <td>No</td>\n",
       "      <td>No</td>\n",
       "    </tr>\n",
       "    <tr>\n",
       "      <th>Partner</th>\n",
       "      <td>No</td>\n",
       "      <td>Yes</td>\n",
       "      <td>Yes</td>\n",
       "      <td>Yes</td>\n",
       "      <td>No</td>\n",
       "    </tr>\n",
       "    <tr>\n",
       "      <th>Dependents</th>\n",
       "      <td>No</td>\n",
       "      <td>Yes</td>\n",
       "      <td>Yes</td>\n",
       "      <td>Yes</td>\n",
       "      <td>No</td>\n",
       "    </tr>\n",
       "    <tr>\n",
       "      <th>TenureMonths</th>\n",
       "      <td>72.0</td>\n",
       "      <td>24.0</td>\n",
       "      <td>72.0</td>\n",
       "      <td>11.0</td>\n",
       "      <td>66.0</td>\n",
       "    </tr>\n",
       "    <tr>\n",
       "      <th>PhoneService</th>\n",
       "      <td>Yes</td>\n",
       "      <td>Yes</td>\n",
       "      <td>Yes</td>\n",
       "      <td>No</td>\n",
       "      <td>Yes</td>\n",
       "    </tr>\n",
       "    <tr>\n",
       "      <th>MultipleLines</th>\n",
       "      <td>No</td>\n",
       "      <td>Yes</td>\n",
       "      <td>Yes</td>\n",
       "      <td>No phone service</td>\n",
       "      <td>No</td>\n",
       "    </tr>\n",
       "    <tr>\n",
       "      <th>InternetService</th>\n",
       "      <td>No</td>\n",
       "      <td>DSL</td>\n",
       "      <td>Fiber optic</td>\n",
       "      <td>DSL</td>\n",
       "      <td>Fiber optic</td>\n",
       "    </tr>\n",
       "    <tr>\n",
       "      <th>OnlineSecurity</th>\n",
       "      <td>No internet service</td>\n",
       "      <td>Yes</td>\n",
       "      <td>No</td>\n",
       "      <td>Yes</td>\n",
       "      <td>Yes</td>\n",
       "    </tr>\n",
       "    <tr>\n",
       "      <th>OnlineBackup</th>\n",
       "      <td>No internet service</td>\n",
       "      <td>No</td>\n",
       "      <td>Yes</td>\n",
       "      <td>No</td>\n",
       "      <td>No</td>\n",
       "    </tr>\n",
       "    <tr>\n",
       "      <th>DeviceProtection</th>\n",
       "      <td>No internet service</td>\n",
       "      <td>Yes</td>\n",
       "      <td>Yes</td>\n",
       "      <td>No</td>\n",
       "      <td>Yes</td>\n",
       "    </tr>\n",
       "    <tr>\n",
       "      <th>TechSupport</th>\n",
       "      <td>No internet service</td>\n",
       "      <td>Yes</td>\n",
       "      <td>No</td>\n",
       "      <td>No</td>\n",
       "      <td>Yes</td>\n",
       "    </tr>\n",
       "    <tr>\n",
       "      <th>StreamingTV</th>\n",
       "      <td>No internet service</td>\n",
       "      <td>Yes</td>\n",
       "      <td>Yes</td>\n",
       "      <td>No</td>\n",
       "      <td>Yes</td>\n",
       "    </tr>\n",
       "    <tr>\n",
       "      <th>StreamingMovies</th>\n",
       "      <td>No internet service</td>\n",
       "      <td>Yes</td>\n",
       "      <td>Yes</td>\n",
       "      <td>No</td>\n",
       "      <td>Yes</td>\n",
       "    </tr>\n",
       "    <tr>\n",
       "      <th>Contract</th>\n",
       "      <td>Two year</td>\n",
       "      <td>One year</td>\n",
       "      <td>One year</td>\n",
       "      <td>Month-to-month</td>\n",
       "      <td>Two year</td>\n",
       "    </tr>\n",
       "    <tr>\n",
       "      <th>PaperlessBilling</th>\n",
       "      <td>Yes</td>\n",
       "      <td>Yes</td>\n",
       "      <td>Yes</td>\n",
       "      <td>Yes</td>\n",
       "      <td>Yes</td>\n",
       "    </tr>\n",
       "    <tr>\n",
       "      <th>PaymentMethod</th>\n",
       "      <td>Bank transfer (automatic)</td>\n",
       "      <td>Mailed check</td>\n",
       "      <td>Credit card (automatic)</td>\n",
       "      <td>Electronic check</td>\n",
       "      <td>Bank transfer (automatic)</td>\n",
       "    </tr>\n",
       "    <tr>\n",
       "      <th>MonthlyCharges</th>\n",
       "      <td>21.15</td>\n",
       "      <td>84.8</td>\n",
       "      <td>103.2</td>\n",
       "      <td>29.6</td>\n",
       "      <td>105.65</td>\n",
       "    </tr>\n",
       "    <tr>\n",
       "      <th>TotalCharges</th>\n",
       "      <td>1419.4</td>\n",
       "      <td>1990.5</td>\n",
       "      <td>7362.9</td>\n",
       "      <td>346.45</td>\n",
       "      <td>6844.5</td>\n",
       "    </tr>\n",
       "    <tr>\n",
       "      <th>ChurnLabel</th>\n",
       "      <td>No</td>\n",
       "      <td>No</td>\n",
       "      <td>No</td>\n",
       "      <td>No</td>\n",
       "      <td>No</td>\n",
       "    </tr>\n",
       "    <tr>\n",
       "      <th>ChurnValue</th>\n",
       "      <td>0.0</td>\n",
       "      <td>0.0</td>\n",
       "      <td>0.0</td>\n",
       "      <td>0.0</td>\n",
       "      <td>0.0</td>\n",
       "    </tr>\n",
       "    <tr>\n",
       "      <th>ChurnScore</th>\n",
       "      <td>45.0</td>\n",
       "      <td>59.0</td>\n",
       "      <td>71.0</td>\n",
       "      <td>59.0</td>\n",
       "      <td>38.0</td>\n",
       "    </tr>\n",
       "    <tr>\n",
       "      <th>CLTV</th>\n",
       "      <td>5306.0</td>\n",
       "      <td>2140.0</td>\n",
       "      <td>5560.0</td>\n",
       "      <td>2793.0</td>\n",
       "      <td>5097.0</td>\n",
       "    </tr>\n",
       "    <tr>\n",
       "      <th>ChurnReason</th>\n",
       "      <td>NaN</td>\n",
       "      <td>NaN</td>\n",
       "      <td>NaN</td>\n",
       "      <td>NaN</td>\n",
       "      <td>NaN</td>\n",
       "    </tr>\n",
       "  </tbody>\n",
       "</table>\n",
       "</div>"
      ],
      "text/plain": [
       "                                       7038                    7039  \\\n",
       "CustomerID                       2569-WGERO              6840-RESVB   \n",
       "Count                                   1.0                     1.0   \n",
       "Country                       United States           United States   \n",
       "State                            California              California   \n",
       "City                                Landers                Adelanto   \n",
       "ZipCode                             92285.0                 92301.0   \n",
       "LatLong              34.341737, -116.539416  34.667815, -117.536183   \n",
       "Latitude                          34.341737               34.667815   \n",
       "Longitude                       -116.539416             -117.536183   \n",
       "Gender                               Female                    Male   \n",
       "SeniorCitizen                            No                      No   \n",
       "Partner                                  No                     Yes   \n",
       "Dependents                               No                     Yes   \n",
       "TenureMonths                           72.0                    24.0   \n",
       "PhoneService                            Yes                     Yes   \n",
       "MultipleLines                            No                     Yes   \n",
       "InternetService                          No                     DSL   \n",
       "OnlineSecurity          No internet service                     Yes   \n",
       "OnlineBackup            No internet service                      No   \n",
       "DeviceProtection        No internet service                     Yes   \n",
       "TechSupport             No internet service                     Yes   \n",
       "StreamingTV             No internet service                     Yes   \n",
       "StreamingMovies         No internet service                     Yes   \n",
       "Contract                           Two year                One year   \n",
       "PaperlessBilling                        Yes                     Yes   \n",
       "PaymentMethod     Bank transfer (automatic)            Mailed check   \n",
       "MonthlyCharges                        21.15                    84.8   \n",
       "TotalCharges                         1419.4                  1990.5   \n",
       "ChurnLabel                               No                      No   \n",
       "ChurnValue                              0.0                     0.0   \n",
       "ChurnScore                             45.0                    59.0   \n",
       "CLTV                                 5306.0                  2140.0   \n",
       "ChurnReason                             NaN                     NaN   \n",
       "\n",
       "                                     7040                 7041  \\\n",
       "CustomerID                     2234-XADUH           4801-JZAZL   \n",
       "Count                                 1.0                  1.0   \n",
       "Country                     United States        United States   \n",
       "State                          California           California   \n",
       "City                                Amboy         Angelus Oaks   \n",
       "ZipCode                           92304.0              92305.0   \n",
       "LatLong            34.559882, -115.637164  34.1678, -116.86433   \n",
       "Latitude                        34.559882              34.1678   \n",
       "Longitude                     -115.637164           -116.86433   \n",
       "Gender                             Female               Female   \n",
       "SeniorCitizen                          No                   No   \n",
       "Partner                               Yes                  Yes   \n",
       "Dependents                            Yes                  Yes   \n",
       "TenureMonths                         72.0                 11.0   \n",
       "PhoneService                          Yes                   No   \n",
       "MultipleLines                         Yes     No phone service   \n",
       "InternetService               Fiber optic                  DSL   \n",
       "OnlineSecurity                         No                  Yes   \n",
       "OnlineBackup                          Yes                   No   \n",
       "DeviceProtection                      Yes                   No   \n",
       "TechSupport                            No                   No   \n",
       "StreamingTV                           Yes                   No   \n",
       "StreamingMovies                       Yes                   No   \n",
       "Contract                         One year       Month-to-month   \n",
       "PaperlessBilling                      Yes                  Yes   \n",
       "PaymentMethod     Credit card (automatic)     Electronic check   \n",
       "MonthlyCharges                      103.2                 29.6   \n",
       "TotalCharges                       7362.9               346.45   \n",
       "ChurnLabel                             No                   No   \n",
       "ChurnValue                            0.0                  0.0   \n",
       "ChurnScore                           71.0                 59.0   \n",
       "CLTV                               5560.0               2793.0   \n",
       "ChurnReason                           NaN                  NaN   \n",
       "\n",
       "                                       7042  \n",
       "CustomerID                       3186-AJIEK  \n",
       "Count                                   1.0  \n",
       "Country                       United States  \n",
       "State                            California  \n",
       "City                           Apple Valley  \n",
       "ZipCode                             92308.0  \n",
       "LatLong              34.424926, -117.184503  \n",
       "Latitude                          34.424926  \n",
       "Longitude                       -117.184503  \n",
       "Gender                                 Male  \n",
       "SeniorCitizen                            No  \n",
       "Partner                                  No  \n",
       "Dependents                               No  \n",
       "TenureMonths                           66.0  \n",
       "PhoneService                            Yes  \n",
       "MultipleLines                            No  \n",
       "InternetService                 Fiber optic  \n",
       "OnlineSecurity                          Yes  \n",
       "OnlineBackup                             No  \n",
       "DeviceProtection                        Yes  \n",
       "TechSupport                             Yes  \n",
       "StreamingTV                             Yes  \n",
       "StreamingMovies                         Yes  \n",
       "Contract                           Two year  \n",
       "PaperlessBilling                        Yes  \n",
       "PaymentMethod     Bank transfer (automatic)  \n",
       "MonthlyCharges                       105.65  \n",
       "TotalCharges                         6844.5  \n",
       "ChurnLabel                               No  \n",
       "ChurnValue                              0.0  \n",
       "ChurnScore                             38.0  \n",
       "CLTV                                 5097.0  \n",
       "ChurnReason                             NaN  "
      ]
     },
     "execution_count": 212,
     "metadata": {},
     "output_type": "execute_result"
    }
   ],
   "source": [
    "df.tail().T # viewing last 5 rows in transverse"
   ]
  },
  {
   "cell_type": "code",
   "execution_count": 213,
   "metadata": {},
   "outputs": [
    {
     "name": "stdout",
     "output_type": "stream",
     "text": [
      "<class 'pandas.core.frame.DataFrame'>\n",
      "Int64Index: 7043 entries, 0 to 7042\n",
      "Data columns (total 33 columns):\n",
      " #   Column            Non-Null Count  Dtype  \n",
      "---  ------            --------------  -----  \n",
      " 0   CustomerID        7043 non-null   object \n",
      " 1   Count             7043 non-null   float64\n",
      " 2   Country           7043 non-null   object \n",
      " 3   State             7043 non-null   object \n",
      " 4   City              7043 non-null   object \n",
      " 5   ZipCode           7043 non-null   float64\n",
      " 6   LatLong           7043 non-null   object \n",
      " 7   Latitude          7043 non-null   float64\n",
      " 8   Longitude         7043 non-null   float64\n",
      " 9   Gender            7043 non-null   object \n",
      " 10  SeniorCitizen     7043 non-null   object \n",
      " 11  Partner           7043 non-null   object \n",
      " 12  Dependents        7043 non-null   object \n",
      " 13  TenureMonths      7043 non-null   float64\n",
      " 14  PhoneService      7043 non-null   object \n",
      " 15  MultipleLines     7043 non-null   object \n",
      " 16  InternetService   7043 non-null   object \n",
      " 17  OnlineSecurity    7043 non-null   object \n",
      " 18  OnlineBackup      7043 non-null   object \n",
      " 19  DeviceProtection  7043 non-null   object \n",
      " 20  TechSupport       7043 non-null   object \n",
      " 21  StreamingTV       7043 non-null   object \n",
      " 22  StreamingMovies   7043 non-null   object \n",
      " 23  Contract          7043 non-null   object \n",
      " 24  PaperlessBilling  7043 non-null   object \n",
      " 25  PaymentMethod     7043 non-null   object \n",
      " 26  MonthlyCharges    7043 non-null   float64\n",
      " 27  TotalCharges      7043 non-null   object \n",
      " 28  ChurnLabel        7043 non-null   object \n",
      " 29  ChurnValue        7043 non-null   float64\n",
      " 30  ChurnScore        7043 non-null   float64\n",
      " 31  CLTV              7043 non-null   float64\n",
      " 32  ChurnReason       1869 non-null   object \n",
      "dtypes: float64(9), object(24)\n",
      "memory usage: 1.8+ MB\n"
     ]
    }
   ],
   "source": [
    "df.info() # checking for null values and data types of variables"
   ]
  },
  {
   "cell_type": "code",
   "execution_count": 214,
   "metadata": {},
   "outputs": [],
   "source": [
    "# here Zip Code, ChurnValue Total Charges are wrongly read\n",
    "df['ZipCode'] = df['ZipCode'].astype('category') # changing ZipCode to category data type \n",
    "df['ChurnValue'] = df['ChurnValue'].astype('category') # changing ChurnValue to category data type\n",
    "df['TotalCharges'] = pd.to_numeric(df['TotalCharges'], errors='coerce') # changing TotalCharges to numerical data type"
   ]
  },
  {
   "cell_type": "code",
   "execution_count": 215,
   "metadata": {},
   "outputs": [
    {
     "data": {
      "text/plain": [
       "Index(['CustomerID', 'Country', 'State', 'City', 'LatLong', 'Gender',\n",
       "       'SeniorCitizen', 'Partner', 'Dependents', 'PhoneService',\n",
       "       'MultipleLines', 'InternetService', 'OnlineSecurity', 'OnlineBackup',\n",
       "       'DeviceProtection', 'TechSupport', 'StreamingTV', 'StreamingMovies',\n",
       "       'Contract', 'PaperlessBilling', 'PaymentMethod', 'ChurnLabel',\n",
       "       'ChurnReason'],\n",
       "      dtype='object')"
      ]
     },
     "execution_count": 215,
     "metadata": {},
     "output_type": "execute_result"
    }
   ],
   "source": [
    "cat_col = df.select_dtypes(include='object').columns # taking out our categorical variables\n",
    "df[cat_col]=df[cat_col].astype('category') # changing data type to category\n",
    "cat_col # viewing our categorical variables"
   ]
  },
  {
   "cell_type": "code",
   "execution_count": 216,
   "metadata": {},
   "outputs": [
    {
     "data": {
      "text/plain": [
       "Index(['Count', 'Latitude', 'Longitude', 'TenureMonths', 'MonthlyCharges',\n",
       "       'TotalCharges', 'ChurnScore', 'CLTV'],\n",
       "      dtype='object')"
      ]
     },
     "execution_count": 216,
     "metadata": {},
     "output_type": "execute_result"
    }
   ],
   "source": [
    "num_col = df.select_dtypes(include='number').columns # taking out our numerical variables\n",
    "num_col # viewing our numerical variables"
   ]
  },
  {
   "cell_type": "code",
   "execution_count": 217,
   "metadata": {},
   "outputs": [
    {
     "name": "stdout",
     "output_type": "stream",
     "text": [
      "<class 'pandas.core.frame.DataFrame'>\n",
      "Int64Index: 7043 entries, 0 to 7042\n",
      "Data columns (total 33 columns):\n",
      " #   Column            Non-Null Count  Dtype   \n",
      "---  ------            --------------  -----   \n",
      " 0   CustomerID        7043 non-null   category\n",
      " 1   Count             7043 non-null   float64 \n",
      " 2   Country           7043 non-null   category\n",
      " 3   State             7043 non-null   category\n",
      " 4   City              7043 non-null   category\n",
      " 5   ZipCode           7043 non-null   category\n",
      " 6   LatLong           7043 non-null   category\n",
      " 7   Latitude          7043 non-null   float64 \n",
      " 8   Longitude         7043 non-null   float64 \n",
      " 9   Gender            7043 non-null   category\n",
      " 10  SeniorCitizen     7043 non-null   category\n",
      " 11  Partner           7043 non-null   category\n",
      " 12  Dependents        7043 non-null   category\n",
      " 13  TenureMonths      7043 non-null   float64 \n",
      " 14  PhoneService      7043 non-null   category\n",
      " 15  MultipleLines     7043 non-null   category\n",
      " 16  InternetService   7043 non-null   category\n",
      " 17  OnlineSecurity    7043 non-null   category\n",
      " 18  OnlineBackup      7043 non-null   category\n",
      " 19  DeviceProtection  7043 non-null   category\n",
      " 20  TechSupport       7043 non-null   category\n",
      " 21  StreamingTV       7043 non-null   category\n",
      " 22  StreamingMovies   7043 non-null   category\n",
      " 23  Contract          7043 non-null   category\n",
      " 24  PaperlessBilling  7043 non-null   category\n",
      " 25  PaymentMethod     7043 non-null   category\n",
      " 26  MonthlyCharges    7043 non-null   float64 \n",
      " 27  TotalCharges      7032 non-null   float64 \n",
      " 28  ChurnLabel        7043 non-null   category\n",
      " 29  ChurnValue        7043 non-null   category\n",
      " 30  ChurnScore        7043 non-null   float64 \n",
      " 31  CLTV              7043 non-null   float64 \n",
      " 32  ChurnReason       1869 non-null   category\n",
      "dtypes: category(25), float64(8)\n",
      "memory usage: 1.2 MB\n"
     ]
    }
   ],
   "source": [
    "df.info() # checking if our data types of variables got changed or not"
   ]
  },
  {
   "cell_type": "markdown",
   "metadata": {},
   "source": [
    " #### Q2: Please apply appropriate statistical measures using python based on data types."
   ]
  },
  {
   "cell_type": "code",
   "execution_count": 218,
   "metadata": {},
   "outputs": [
    {
     "data": {
      "text/html": [
       "<div>\n",
       "<style scoped>\n",
       "    .dataframe tbody tr th:only-of-type {\n",
       "        vertical-align: middle;\n",
       "    }\n",
       "\n",
       "    .dataframe tbody tr th {\n",
       "        vertical-align: top;\n",
       "    }\n",
       "\n",
       "    .dataframe thead th {\n",
       "        text-align: right;\n",
       "    }\n",
       "</style>\n",
       "<table border=\"1\" class=\"dataframe\">\n",
       "  <thead>\n",
       "    <tr style=\"text-align: right;\">\n",
       "      <th></th>\n",
       "      <th>count</th>\n",
       "      <th>unique</th>\n",
       "      <th>top</th>\n",
       "      <th>freq</th>\n",
       "    </tr>\n",
       "  </thead>\n",
       "  <tbody>\n",
       "    <tr>\n",
       "      <th>CustomerID</th>\n",
       "      <td>7043</td>\n",
       "      <td>7043</td>\n",
       "      <td>0002-ORFBO</td>\n",
       "      <td>1</td>\n",
       "    </tr>\n",
       "    <tr>\n",
       "      <th>Country</th>\n",
       "      <td>7043</td>\n",
       "      <td>1</td>\n",
       "      <td>United States</td>\n",
       "      <td>7043</td>\n",
       "    </tr>\n",
       "    <tr>\n",
       "      <th>State</th>\n",
       "      <td>7043</td>\n",
       "      <td>1</td>\n",
       "      <td>California</td>\n",
       "      <td>7043</td>\n",
       "    </tr>\n",
       "    <tr>\n",
       "      <th>City</th>\n",
       "      <td>7043</td>\n",
       "      <td>1129</td>\n",
       "      <td>Los Angeles</td>\n",
       "      <td>305</td>\n",
       "    </tr>\n",
       "    <tr>\n",
       "      <th>LatLong</th>\n",
       "      <td>7043</td>\n",
       "      <td>1652</td>\n",
       "      <td>32.555828, -117.040073</td>\n",
       "      <td>5</td>\n",
       "    </tr>\n",
       "    <tr>\n",
       "      <th>Gender</th>\n",
       "      <td>7043</td>\n",
       "      <td>2</td>\n",
       "      <td>Male</td>\n",
       "      <td>3555</td>\n",
       "    </tr>\n",
       "    <tr>\n",
       "      <th>SeniorCitizen</th>\n",
       "      <td>7043</td>\n",
       "      <td>2</td>\n",
       "      <td>No</td>\n",
       "      <td>5901</td>\n",
       "    </tr>\n",
       "    <tr>\n",
       "      <th>Partner</th>\n",
       "      <td>7043</td>\n",
       "      <td>2</td>\n",
       "      <td>No</td>\n",
       "      <td>3641</td>\n",
       "    </tr>\n",
       "    <tr>\n",
       "      <th>Dependents</th>\n",
       "      <td>7043</td>\n",
       "      <td>2</td>\n",
       "      <td>No</td>\n",
       "      <td>5416</td>\n",
       "    </tr>\n",
       "    <tr>\n",
       "      <th>PhoneService</th>\n",
       "      <td>7043</td>\n",
       "      <td>2</td>\n",
       "      <td>Yes</td>\n",
       "      <td>6361</td>\n",
       "    </tr>\n",
       "    <tr>\n",
       "      <th>MultipleLines</th>\n",
       "      <td>7043</td>\n",
       "      <td>3</td>\n",
       "      <td>No</td>\n",
       "      <td>3390</td>\n",
       "    </tr>\n",
       "    <tr>\n",
       "      <th>InternetService</th>\n",
       "      <td>7043</td>\n",
       "      <td>3</td>\n",
       "      <td>Fiber optic</td>\n",
       "      <td>3096</td>\n",
       "    </tr>\n",
       "    <tr>\n",
       "      <th>OnlineSecurity</th>\n",
       "      <td>7043</td>\n",
       "      <td>3</td>\n",
       "      <td>No</td>\n",
       "      <td>3498</td>\n",
       "    </tr>\n",
       "    <tr>\n",
       "      <th>OnlineBackup</th>\n",
       "      <td>7043</td>\n",
       "      <td>3</td>\n",
       "      <td>No</td>\n",
       "      <td>3088</td>\n",
       "    </tr>\n",
       "    <tr>\n",
       "      <th>DeviceProtection</th>\n",
       "      <td>7043</td>\n",
       "      <td>3</td>\n",
       "      <td>No</td>\n",
       "      <td>3095</td>\n",
       "    </tr>\n",
       "    <tr>\n",
       "      <th>TechSupport</th>\n",
       "      <td>7043</td>\n",
       "      <td>3</td>\n",
       "      <td>No</td>\n",
       "      <td>3473</td>\n",
       "    </tr>\n",
       "    <tr>\n",
       "      <th>StreamingTV</th>\n",
       "      <td>7043</td>\n",
       "      <td>3</td>\n",
       "      <td>No</td>\n",
       "      <td>2810</td>\n",
       "    </tr>\n",
       "    <tr>\n",
       "      <th>StreamingMovies</th>\n",
       "      <td>7043</td>\n",
       "      <td>3</td>\n",
       "      <td>No</td>\n",
       "      <td>2785</td>\n",
       "    </tr>\n",
       "    <tr>\n",
       "      <th>Contract</th>\n",
       "      <td>7043</td>\n",
       "      <td>3</td>\n",
       "      <td>Month-to-month</td>\n",
       "      <td>3875</td>\n",
       "    </tr>\n",
       "    <tr>\n",
       "      <th>PaperlessBilling</th>\n",
       "      <td>7043</td>\n",
       "      <td>2</td>\n",
       "      <td>Yes</td>\n",
       "      <td>4171</td>\n",
       "    </tr>\n",
       "    <tr>\n",
       "      <th>PaymentMethod</th>\n",
       "      <td>7043</td>\n",
       "      <td>4</td>\n",
       "      <td>Electronic check</td>\n",
       "      <td>2365</td>\n",
       "    </tr>\n",
       "    <tr>\n",
       "      <th>ChurnLabel</th>\n",
       "      <td>7043</td>\n",
       "      <td>2</td>\n",
       "      <td>No</td>\n",
       "      <td>5174</td>\n",
       "    </tr>\n",
       "    <tr>\n",
       "      <th>ChurnReason</th>\n",
       "      <td>1869</td>\n",
       "      <td>20</td>\n",
       "      <td>Attitude of support person</td>\n",
       "      <td>192</td>\n",
       "    </tr>\n",
       "  </tbody>\n",
       "</table>\n",
       "</div>"
      ],
      "text/plain": [
       "                 count unique                         top  freq\n",
       "CustomerID        7043   7043                  0002-ORFBO     1\n",
       "Country           7043      1               United States  7043\n",
       "State             7043      1                  California  7043\n",
       "City              7043   1129                 Los Angeles   305\n",
       "LatLong           7043   1652      32.555828, -117.040073     5\n",
       "Gender            7043      2                        Male  3555\n",
       "SeniorCitizen     7043      2                          No  5901\n",
       "Partner           7043      2                          No  3641\n",
       "Dependents        7043      2                          No  5416\n",
       "PhoneService      7043      2                         Yes  6361\n",
       "MultipleLines     7043      3                          No  3390\n",
       "InternetService   7043      3                 Fiber optic  3096\n",
       "OnlineSecurity    7043      3                          No  3498\n",
       "OnlineBackup      7043      3                          No  3088\n",
       "DeviceProtection  7043      3                          No  3095\n",
       "TechSupport       7043      3                          No  3473\n",
       "StreamingTV       7043      3                          No  2810\n",
       "StreamingMovies   7043      3                          No  2785\n",
       "Contract          7043      3              Month-to-month  3875\n",
       "PaperlessBilling  7043      2                         Yes  4171\n",
       "PaymentMethod     7043      4            Electronic check  2365\n",
       "ChurnLabel        7043      2                          No  5174\n",
       "ChurnReason       1869     20  Attitude of support person   192"
      ]
     },
     "execution_count": 218,
     "metadata": {},
     "output_type": "execute_result"
    }
   ],
   "source": [
    "df[cat_col].describe().T # statistical measures of categorical variables  "
   ]
  },
  {
   "cell_type": "code",
   "execution_count": 219,
   "metadata": {},
   "outputs": [],
   "source": [
    "df = df.drop(columns=['Country','State']) #dropping country and state as it is same for all observations"
   ]
  },
  {
   "cell_type": "code",
   "execution_count": 220,
   "metadata": {},
   "outputs": [
    {
     "data": {
      "text/html": [
       "<div>\n",
       "<style scoped>\n",
       "    .dataframe tbody tr th:only-of-type {\n",
       "        vertical-align: middle;\n",
       "    }\n",
       "\n",
       "    .dataframe tbody tr th {\n",
       "        vertical-align: top;\n",
       "    }\n",
       "\n",
       "    .dataframe thead th {\n",
       "        text-align: right;\n",
       "    }\n",
       "</style>\n",
       "<table border=\"1\" class=\"dataframe\">\n",
       "  <thead>\n",
       "    <tr style=\"text-align: right;\">\n",
       "      <th></th>\n",
       "      <th>count</th>\n",
       "      <th>mean</th>\n",
       "      <th>std</th>\n",
       "      <th>min</th>\n",
       "      <th>25%</th>\n",
       "      <th>50%</th>\n",
       "      <th>75%</th>\n",
       "      <th>max</th>\n",
       "    </tr>\n",
       "  </thead>\n",
       "  <tbody>\n",
       "    <tr>\n",
       "      <th>Count</th>\n",
       "      <td>7043.0</td>\n",
       "      <td>1.000000</td>\n",
       "      <td>0.000000</td>\n",
       "      <td>1.000000</td>\n",
       "      <td>1.000000</td>\n",
       "      <td>1.000000</td>\n",
       "      <td>1.000000</td>\n",
       "      <td>1.000000</td>\n",
       "    </tr>\n",
       "    <tr>\n",
       "      <th>Latitude</th>\n",
       "      <td>7043.0</td>\n",
       "      <td>36.282441</td>\n",
       "      <td>2.455723</td>\n",
       "      <td>32.555828</td>\n",
       "      <td>34.030915</td>\n",
       "      <td>36.391777</td>\n",
       "      <td>38.224869</td>\n",
       "      <td>41.962127</td>\n",
       "    </tr>\n",
       "    <tr>\n",
       "      <th>Longitude</th>\n",
       "      <td>7043.0</td>\n",
       "      <td>-119.798880</td>\n",
       "      <td>2.157889</td>\n",
       "      <td>-124.301372</td>\n",
       "      <td>-121.815412</td>\n",
       "      <td>-119.730885</td>\n",
       "      <td>-118.043237</td>\n",
       "      <td>-114.192901</td>\n",
       "    </tr>\n",
       "    <tr>\n",
       "      <th>TenureMonths</th>\n",
       "      <td>7043.0</td>\n",
       "      <td>32.371149</td>\n",
       "      <td>24.559481</td>\n",
       "      <td>0.000000</td>\n",
       "      <td>9.000000</td>\n",
       "      <td>29.000000</td>\n",
       "      <td>55.000000</td>\n",
       "      <td>72.000000</td>\n",
       "    </tr>\n",
       "    <tr>\n",
       "      <th>MonthlyCharges</th>\n",
       "      <td>7043.0</td>\n",
       "      <td>64.761692</td>\n",
       "      <td>30.090047</td>\n",
       "      <td>18.250000</td>\n",
       "      <td>35.500000</td>\n",
       "      <td>70.350000</td>\n",
       "      <td>89.850000</td>\n",
       "      <td>118.750000</td>\n",
       "    </tr>\n",
       "    <tr>\n",
       "      <th>TotalCharges</th>\n",
       "      <td>7032.0</td>\n",
       "      <td>2283.300441</td>\n",
       "      <td>2266.771362</td>\n",
       "      <td>18.800000</td>\n",
       "      <td>401.450000</td>\n",
       "      <td>1397.475000</td>\n",
       "      <td>3794.737500</td>\n",
       "      <td>8684.800000</td>\n",
       "    </tr>\n",
       "    <tr>\n",
       "      <th>ChurnScore</th>\n",
       "      <td>7043.0</td>\n",
       "      <td>58.699418</td>\n",
       "      <td>21.525131</td>\n",
       "      <td>5.000000</td>\n",
       "      <td>40.000000</td>\n",
       "      <td>61.000000</td>\n",
       "      <td>75.000000</td>\n",
       "      <td>100.000000</td>\n",
       "    </tr>\n",
       "    <tr>\n",
       "      <th>CLTV</th>\n",
       "      <td>7043.0</td>\n",
       "      <td>4400.295755</td>\n",
       "      <td>1183.057152</td>\n",
       "      <td>2003.000000</td>\n",
       "      <td>3469.000000</td>\n",
       "      <td>4527.000000</td>\n",
       "      <td>5380.500000</td>\n",
       "      <td>6500.000000</td>\n",
       "    </tr>\n",
       "  </tbody>\n",
       "</table>\n",
       "</div>"
      ],
      "text/plain": [
       "                 count         mean          std          min          25%  \\\n",
       "Count           7043.0     1.000000     0.000000     1.000000     1.000000   \n",
       "Latitude        7043.0    36.282441     2.455723    32.555828    34.030915   \n",
       "Longitude       7043.0  -119.798880     2.157889  -124.301372  -121.815412   \n",
       "TenureMonths    7043.0    32.371149    24.559481     0.000000     9.000000   \n",
       "MonthlyCharges  7043.0    64.761692    30.090047    18.250000    35.500000   \n",
       "TotalCharges    7032.0  2283.300441  2266.771362    18.800000   401.450000   \n",
       "ChurnScore      7043.0    58.699418    21.525131     5.000000    40.000000   \n",
       "CLTV            7043.0  4400.295755  1183.057152  2003.000000  3469.000000   \n",
       "\n",
       "                        50%          75%          max  \n",
       "Count              1.000000     1.000000     1.000000  \n",
       "Latitude          36.391777    38.224869    41.962127  \n",
       "Longitude       -119.730885  -118.043237  -114.192901  \n",
       "TenureMonths      29.000000    55.000000    72.000000  \n",
       "MonthlyCharges    70.350000    89.850000   118.750000  \n",
       "TotalCharges    1397.475000  3794.737500  8684.800000  \n",
       "ChurnScore        61.000000    75.000000   100.000000  \n",
       "CLTV            4527.000000  5380.500000  6500.000000  "
      ]
     },
     "execution_count": 220,
     "metadata": {},
     "output_type": "execute_result"
    }
   ],
   "source": [
    "df[num_col].describe().T # statistical measures of numerical variables"
   ]
  },
  {
   "cell_type": "code",
   "execution_count": 221,
   "metadata": {},
   "outputs": [],
   "source": [
    "df = df.drop(columns=['Count']) #dropping count as it is same for all observations"
   ]
  },
  {
   "cell_type": "code",
   "execution_count": 222,
   "metadata": {},
   "outputs": [],
   "source": [
    "# again configuring as we have dropped some variables\n",
    "cat_col = cat_col = df.select_dtypes(include='category').columns\n",
    "num_col = df.select_dtypes(include='number').columns"
   ]
  },
  {
   "cell_type": "code",
   "execution_count": 223,
   "metadata": {},
   "outputs": [
    {
     "data": {
      "image/png": "[encoded data removed]",
      "text/plain": [
       "<Figure size 1800x720 with 3 Axes>"
      ]
     },
     "metadata": {
      "needs_background": "light"
     },
     "output_type": "display_data"
    }
   ],
   "source": [
    "msno.bar(df[cat_col], color='r') # visualzing missing values in categorical variables\n",
    "plt.show() # visualizing the chart"
   ]
  },
  {
   "cell_type": "code",
   "execution_count": 224,
   "metadata": {},
   "outputs": [
    {
     "data": {
      "text/plain": [
       "Attitude of support person                   192\n",
       "Competitor offered higher download speeds    189\n",
       "Competitor offered more data                 162\n",
       "Don't know                                   154\n",
       "Competitor made better offer                 140\n",
       "Attitude of service provider                 135\n",
       "Competitor had better devices                130\n",
       "Network reliability                          103\n",
       "Product dissatisfaction                      102\n",
       "Price too high                                98\n",
       "Service dissatisfaction                       89\n",
       "Lack of self-service on Website               88\n",
       "Extra data charges                            57\n",
       "Moved                                         53\n",
       "Limited range of services                     44\n",
       "Long distance charges                         44\n",
       "Lack of affordable download/upload speed      44\n",
       "Poor expertise of phone support               20\n",
       "Poor expertise of online support              19\n",
       "Deceased                                       6\n",
       "Name: ChurnReason, dtype: int64"
      ]
     },
     "execution_count": 224,
     "metadata": {},
     "output_type": "execute_result"
    }
   ],
   "source": [
    "df['ChurnReason'].value_counts() # checking for count and type of entries we have in ChurnReason"
   ]
  },
  {
   "cell_type": "markdown",
   "metadata": {},
   "source": [
    "- here ChurnReason has many empty values more than 70% data is missing so dropping it will more nice \n",
    "- other than that no other variables has null values or empty values "
   ]
  },
  {
   "cell_type": "code",
   "execution_count": 225,
   "metadata": {},
   "outputs": [],
   "source": [
    "df = df.drop(columns=['ChurnReason']) # dropping ChurnReason variable"
   ]
  },
  {
   "cell_type": "code",
   "execution_count": 226,
   "metadata": {},
   "outputs": [],
   "source": [
    "# again configuring as we have dropped some variables\n",
    "cat_col = cat_col = df.select_dtypes(include='category').columns\n",
    "num_col = df.select_dtypes(include='number').columns"
   ]
  },
  {
   "cell_type": "code",
   "execution_count": 227,
   "metadata": {},
   "outputs": [
    {
     "data": {
      "image/png": "[encoded data removed]",
      "text/plain": [
       "<Figure size 1800x720 with 3 Axes>"
      ]
     },
     "metadata": {
      "needs_background": "light"
     },
     "output_type": "display_data"
    }
   ],
   "source": [
    "msno.bar(df[num_col], color='b') # visualzing missing values in numerical variables\n",
    "plt.show() # visualizing the chart"
   ]
  },
  {
   "cell_type": "markdown",
   "metadata": {},
   "source": [
    "- there are some missing values in Total Charges"
   ]
  },
  {
   "cell_type": "code",
   "execution_count": 228,
   "metadata": {},
   "outputs": [
    {
     "data": {
      "text/plain": [
       "11"
      ]
     },
     "execution_count": 228,
     "metadata": {},
     "output_type": "execute_result"
    }
   ],
   "source": [
    "df['TotalCharges'].isna().sum() # checking for how much null values we have"
   ]
  },
  {
   "cell_type": "code",
   "execution_count": 229,
   "metadata": {},
   "outputs": [],
   "source": [
    "df.dropna(inplace=True) # dropping null values from our dataset"
   ]
  },
  {
   "cell_type": "code",
   "execution_count": 230,
   "metadata": {},
   "outputs": [
    {
     "data": {
      "text/plain": [
       "(7032, 29)"
      ]
     },
     "execution_count": 230,
     "metadata": {},
     "output_type": "execute_result"
    }
   ],
   "source": [
    "df.shape # checking shape of our data after removing null values"
   ]
  },
  {
   "cell_type": "markdown",
   "metadata": {},
   "source": [
    "#### Q3: What is the percentage of females and senior citizens in this data set? Please create appropriate plots and explain the plots."
   ]
  },
  {
   "cell_type": "code",
   "execution_count": 231,
   "metadata": {},
   "outputs": [
    {
     "data": {
      "text/plain": [
       "Male      3549\n",
       "Female    3483\n",
       "Name: Gender, dtype: int64"
      ]
     },
     "execution_count": 231,
     "metadata": {},
     "output_type": "execute_result"
    }
   ],
   "source": [
    "df['Gender'].value_counts() #checking for count and type of entries we have in Gender"
   ]
  },
  {
   "cell_type": "code",
   "execution_count": 248,
   "metadata": {},
   "outputs": [
    {
     "data": {
      "image/png": "[encoded data removed]",
      "text/plain": [
       "<Figure size 720x432 with 1 Axes>"
      ]
     },
     "metadata": {},
     "output_type": "display_data"
    }
   ],
   "source": [
    "plt.figure(figsize=(10,6)) # giving figure size\n",
    "df['Gender'].value_counts().plot(kind='pie',autopct='%1.2f%%',shadow=True, explode = (0.1,0)) # configuring our pie chart\n",
    "plt.legend() # for showing legend in chart\n",
    "plt.show() # visualizing the chart"
   ]
  },
  {
   "cell_type": "markdown",
   "metadata": {},
   "source": [
    "- In our dataset we have Male as 50.47% with 3549 counts.\n",
    "- Where as for Female we have 49.53% with 3483 counts."
   ]
  },
  {
   "cell_type": "code",
   "execution_count": 233,
   "metadata": {},
   "outputs": [
    {
     "data": {
      "text/plain": [
       "No     5890\n",
       "Yes    1142\n",
       "Name: SeniorCitizen, dtype: int64"
      ]
     },
     "execution_count": 233,
     "metadata": {},
     "output_type": "execute_result"
    }
   ],
   "source": [
    "df['SeniorCitizen'].value_counts() # checking for count and type of entries we have in SeniorCitizen"
   ]
  },
  {
   "cell_type": "code",
   "execution_count": 249,
   "metadata": {},
   "outputs": [
    {
     "data": {
      "image/png": "[encoded data removed]",
      "text/plain": [
       "<Figure size 720x432 with 1 Axes>"
      ]
     },
     "metadata": {},
     "output_type": "display_data"
    }
   ],
   "source": [
    "plt.figure(figsize=(10,6)) # giving figure size\n",
    "df['SeniorCitizen'].value_counts().plot(kind='pie', autopct='%1.2f%%',shadow = True,explode = (0.1,0)) # configuring our pie chart\n",
    "plt.legend() # for showing legend in chart\n",
    "plt.show() # visualizing the chart"
   ]
  },
  {
   "cell_type": "markdown",
   "metadata": {},
   "source": [
    "- In our dataset we have Senior Citizen as 16.24% with 1142 counts."
   ]
  },
  {
   "cell_type": "markdown",
   "metadata": {},
   "source": [
    "#### Q4:  Please create an appropriate plot to examine the distribution of the tenure month column and explain the distribution. Based on distribution, perform appropriate statistical measures. Please also explain if the variable is symmetric or skewed. Please calculate it. Explain everything as asked."
   ]
  },
  {
   "cell_type": "code",
   "execution_count": 235,
   "metadata": {},
   "outputs": [
    {
     "data": {
      "image/png": "[encoded data removed]",
      "text/plain": [
       "<Figure size 360x360 with 1 Axes>"
      ]
     },
     "metadata": {
      "needs_background": "light"
     },
     "output_type": "display_data"
    }
   ],
   "source": [
    "sns.displot(data=df, x = 'TenureMonths', kde=True, color='green') # configuring our distribution chart\n",
    "plt.axvline(x=df['TenureMonths'].mean(), color='red', alpha=0.5, label= 'Mean') # creating Mean line in chart\n",
    "plt.axvline(x=df['TenureMonths'].median(), color='blue', alpha=0.5, label= 'Median') # creating Median line in chart\n",
    "plt.title('Distribution of Tenure Months', fontsize = 15) # giving title and its size\n",
    "plt.xlabel('Tenure Months',fontsize = 12) # giving x-axis title and its size\n",
    "plt.legend() # for showing legend in chart\n",
    "plt.show() # visualizing the chart"
   ]
  },
  {
   "cell_type": "code",
   "execution_count": 236,
   "metadata": {},
   "outputs": [
    {
     "name": "stdout",
     "output_type": "stream",
     "text": [
      "Mean     :  32.42\n",
      "Median   :  29.0\n",
      "Skewness :  0.24\n"
     ]
    }
   ],
   "source": [
    "print('Mean     : ' , round(df['TenureMonths'].mean(),2)) # mean of TenureMonths\n",
    "print('Median   : ' , round(df['TenureMonths'].median(),2)) # median of TenureMonths\n",
    "print('Skewness : ' , round(df['TenureMonths'].skew(),2)) # skewness of TenureMonths"
   ]
  },
  {
   "cell_type": "markdown",
   "metadata": {},
   "source": [
    "- here mean and median is almost same\n",
    "- also skewness is 0.24 which comes in range of symmetrical \n",
    "- so we can say that TenureMonths is almost symmetrical"
   ]
  },
  {
   "cell_type": "markdown",
   "metadata": {},
   "source": [
    "#### Q5: Please convert all binary columns into 0 and 1 using appropriate programming constructs, not one by one."
   ]
  },
  {
   "cell_type": "code",
   "execution_count": 237,
   "metadata": {},
   "outputs": [
    {
     "data": {
      "text/html": [
       "<div>\n",
       "<style scoped>\n",
       "    .dataframe tbody tr th:only-of-type {\n",
       "        vertical-align: middle;\n",
       "    }\n",
       "\n",
       "    .dataframe tbody tr th {\n",
       "        vertical-align: top;\n",
       "    }\n",
       "\n",
       "    .dataframe thead th {\n",
       "        text-align: right;\n",
       "    }\n",
       "</style>\n",
       "<table border=\"1\" class=\"dataframe\">\n",
       "  <thead>\n",
       "    <tr style=\"text-align: right;\">\n",
       "      <th></th>\n",
       "      <th>count</th>\n",
       "      <th>unique</th>\n",
       "      <th>top</th>\n",
       "      <th>freq</th>\n",
       "    </tr>\n",
       "  </thead>\n",
       "  <tbody>\n",
       "    <tr>\n",
       "      <th>CustomerID</th>\n",
       "      <td>7032</td>\n",
       "      <td>7032</td>\n",
       "      <td>0002-ORFBO</td>\n",
       "      <td>1</td>\n",
       "    </tr>\n",
       "    <tr>\n",
       "      <th>City</th>\n",
       "      <td>7032</td>\n",
       "      <td>1129</td>\n",
       "      <td>Los Angeles</td>\n",
       "      <td>304</td>\n",
       "    </tr>\n",
       "    <tr>\n",
       "      <th>ZipCode</th>\n",
       "      <td>7032.0</td>\n",
       "      <td>1652.0</td>\n",
       "      <td>90001.0</td>\n",
       "      <td>5.0</td>\n",
       "    </tr>\n",
       "    <tr>\n",
       "      <th>LatLong</th>\n",
       "      <td>7032</td>\n",
       "      <td>1652</td>\n",
       "      <td>32.555828, -117.040073</td>\n",
       "      <td>5</td>\n",
       "    </tr>\n",
       "    <tr>\n",
       "      <th>Gender</th>\n",
       "      <td>7032</td>\n",
       "      <td>2</td>\n",
       "      <td>Male</td>\n",
       "      <td>3549</td>\n",
       "    </tr>\n",
       "    <tr>\n",
       "      <th>SeniorCitizen</th>\n",
       "      <td>7032</td>\n",
       "      <td>2</td>\n",
       "      <td>No</td>\n",
       "      <td>5890</td>\n",
       "    </tr>\n",
       "    <tr>\n",
       "      <th>Partner</th>\n",
       "      <td>7032</td>\n",
       "      <td>2</td>\n",
       "      <td>No</td>\n",
       "      <td>3639</td>\n",
       "    </tr>\n",
       "    <tr>\n",
       "      <th>Dependents</th>\n",
       "      <td>7032</td>\n",
       "      <td>2</td>\n",
       "      <td>No</td>\n",
       "      <td>5412</td>\n",
       "    </tr>\n",
       "    <tr>\n",
       "      <th>PhoneService</th>\n",
       "      <td>7032</td>\n",
       "      <td>2</td>\n",
       "      <td>Yes</td>\n",
       "      <td>6352</td>\n",
       "    </tr>\n",
       "    <tr>\n",
       "      <th>MultipleLines</th>\n",
       "      <td>7032</td>\n",
       "      <td>3</td>\n",
       "      <td>No</td>\n",
       "      <td>3385</td>\n",
       "    </tr>\n",
       "    <tr>\n",
       "      <th>InternetService</th>\n",
       "      <td>7032</td>\n",
       "      <td>3</td>\n",
       "      <td>Fiber optic</td>\n",
       "      <td>3096</td>\n",
       "    </tr>\n",
       "    <tr>\n",
       "      <th>OnlineSecurity</th>\n",
       "      <td>7032</td>\n",
       "      <td>3</td>\n",
       "      <td>No</td>\n",
       "      <td>3497</td>\n",
       "    </tr>\n",
       "    <tr>\n",
       "      <th>OnlineBackup</th>\n",
       "      <td>7032</td>\n",
       "      <td>3</td>\n",
       "      <td>No</td>\n",
       "      <td>3087</td>\n",
       "    </tr>\n",
       "    <tr>\n",
       "      <th>DeviceProtection</th>\n",
       "      <td>7032</td>\n",
       "      <td>3</td>\n",
       "      <td>No</td>\n",
       "      <td>3094</td>\n",
       "    </tr>\n",
       "    <tr>\n",
       "      <th>TechSupport</th>\n",
       "      <td>7032</td>\n",
       "      <td>3</td>\n",
       "      <td>No</td>\n",
       "      <td>3472</td>\n",
       "    </tr>\n",
       "    <tr>\n",
       "      <th>StreamingTV</th>\n",
       "      <td>7032</td>\n",
       "      <td>3</td>\n",
       "      <td>No</td>\n",
       "      <td>2809</td>\n",
       "    </tr>\n",
       "    <tr>\n",
       "      <th>StreamingMovies</th>\n",
       "      <td>7032</td>\n",
       "      <td>3</td>\n",
       "      <td>No</td>\n",
       "      <td>2781</td>\n",
       "    </tr>\n",
       "    <tr>\n",
       "      <th>Contract</th>\n",
       "      <td>7032</td>\n",
       "      <td>3</td>\n",
       "      <td>Month-to-month</td>\n",
       "      <td>3875</td>\n",
       "    </tr>\n",
       "    <tr>\n",
       "      <th>PaperlessBilling</th>\n",
       "      <td>7032</td>\n",
       "      <td>2</td>\n",
       "      <td>Yes</td>\n",
       "      <td>4168</td>\n",
       "    </tr>\n",
       "    <tr>\n",
       "      <th>PaymentMethod</th>\n",
       "      <td>7032</td>\n",
       "      <td>4</td>\n",
       "      <td>Electronic check</td>\n",
       "      <td>2365</td>\n",
       "    </tr>\n",
       "    <tr>\n",
       "      <th>ChurnLabel</th>\n",
       "      <td>7032</td>\n",
       "      <td>2</td>\n",
       "      <td>No</td>\n",
       "      <td>5163</td>\n",
       "    </tr>\n",
       "    <tr>\n",
       "      <th>ChurnValue</th>\n",
       "      <td>7032.0</td>\n",
       "      <td>2.0</td>\n",
       "      <td>0.0</td>\n",
       "      <td>5163.0</td>\n",
       "    </tr>\n",
       "  </tbody>\n",
       "</table>\n",
       "</div>"
      ],
      "text/plain": [
       "                   count  unique                     top    freq\n",
       "CustomerID          7032    7032              0002-ORFBO       1\n",
       "City                7032    1129             Los Angeles     304\n",
       "ZipCode           7032.0  1652.0                 90001.0     5.0\n",
       "LatLong             7032    1652  32.555828, -117.040073       5\n",
       "Gender              7032       2                    Male    3549\n",
       "SeniorCitizen       7032       2                      No    5890\n",
       "Partner             7032       2                      No    3639\n",
       "Dependents          7032       2                      No    5412\n",
       "PhoneService        7032       2                     Yes    6352\n",
       "MultipleLines       7032       3                      No    3385\n",
       "InternetService     7032       3             Fiber optic    3096\n",
       "OnlineSecurity      7032       3                      No    3497\n",
       "OnlineBackup        7032       3                      No    3087\n",
       "DeviceProtection    7032       3                      No    3094\n",
       "TechSupport         7032       3                      No    3472\n",
       "StreamingTV         7032       3                      No    2809\n",
       "StreamingMovies     7032       3                      No    2781\n",
       "Contract            7032       3          Month-to-month    3875\n",
       "PaperlessBilling    7032       2                     Yes    4168\n",
       "PaymentMethod       7032       4        Electronic check    2365\n",
       "ChurnLabel          7032       2                      No    5163\n",
       "ChurnValue        7032.0     2.0                     0.0  5163.0"
      ]
     },
     "execution_count": 237,
     "metadata": {},
     "output_type": "execute_result"
    }
   ],
   "source": [
    "df[cat_col].describe().T # statistical measures of categorical variables"
   ]
  },
  {
   "cell_type": "code",
   "execution_count": 238,
   "metadata": {},
   "outputs": [
    {
     "data": {
      "text/plain": [
       "['Gender',\n",
       " 'SeniorCitizen',\n",
       " 'Partner',\n",
       " 'Dependents',\n",
       " 'PhoneService',\n",
       " 'PaperlessBilling',\n",
       " 'ChurnLabel',\n",
       " 'ChurnValue']"
      ]
     },
     "execution_count": 238,
     "metadata": {},
     "output_type": "execute_result"
    }
   ],
   "source": [
    "bin_col = [] # creating binary columns list\n",
    "for i in cat_col: # looping through categorical columns\n",
    "    if df[i].nunique()==2: # giving condition for number of unique should be 2\n",
    "        bin_col.append(i) # if condition met then adding value to binary list\n",
    "bin_col # viewing our binary column list"
   ]
  },
  {
   "cell_type": "code",
   "execution_count": 239,
   "metadata": {},
   "outputs": [
    {
     "name": "stdout",
     "output_type": "stream",
     "text": [
      "1    3549\n",
      "0    3483\n",
      "Name: transformed_Gender, dtype: int64\n",
      "0    5890\n",
      "1    1142\n",
      "Name: transformed_SeniorCitizen, dtype: int64\n",
      "0    3639\n",
      "1    3393\n",
      "Name: transformed_Partner, dtype: int64\n",
      "0    5412\n",
      "1    1620\n",
      "Name: transformed_Dependents, dtype: int64\n",
      "1    6352\n",
      "0     680\n",
      "Name: transformed_PhoneService, dtype: int64\n",
      "1    4168\n",
      "0    2864\n",
      "Name: transformed_PaperlessBilling, dtype: int64\n",
      "0    5163\n",
      "1    1869\n",
      "Name: transformed_ChurnLabel, dtype: int64\n",
      "0    5163\n",
      "1    1869\n",
      "Name: transformed_ChurnValue, dtype: int64\n"
     ]
    }
   ],
   "source": [
    "from sklearn.preprocessing import LabelEncoder # importing required library\n",
    "lbl = LabelEncoder() # creating object\n",
    "for i in bin_col: # looping through binary columns\n",
    "    df[f'transformed_{i}'] = lbl.fit_transform(df[i]) # transforming them into zero and one\n",
    "    print(df[f'transformed_{i}'].value_counts()) # confirming if they got transformed or not"
   ]
  },
  {
   "cell_type": "markdown",
   "metadata": {},
   "source": [
    "#### Q6: Please examine the distribution of monthly charges between males and females using box plots. Please explain the results also."
   ]
  },
  {
   "cell_type": "code",
   "execution_count": 240,
   "metadata": {},
   "outputs": [
    {
     "data": {
      "image/png": "[encoded data removed]",
      "text/plain": [
       "<Figure size 720x432 with 1 Axes>"
      ]
     },
     "metadata": {
      "needs_background": "light"
     },
     "output_type": "display_data"
    }
   ],
   "source": [
    "plt.figure(figsize=(10,6)) # giving figure size\n",
    "sns.boxplot(data=df, x='MonthlyCharges', y='Gender') # configuring our box chart\n",
    "plt.title('Distribution of Monthly Charges on Gender',fontsize = 15) # giving title and its size\n",
    "plt.xlabel('Monthly Charges', fontsize = 12) # giving x-axis title and its size\n",
    "plt.ylabel('Gender', fontsize = 12) # giving y-axis title and its size\n",
    "plt.show() # visualizing the chart"
   ]
  },
  {
   "cell_type": "markdown",
   "metadata": {},
   "source": [
    "- both male and female are left skewed as median line is more towards right side \n",
    "- median is almost same for both of genders\n",
    "- minimum and maximums are also nearly same for both genders, same is with IQR\n",
    "- also we don't have any outliers"
   ]
  },
  {
   "cell_type": "markdown",
   "metadata": {},
   "source": [
    "#### Q7: Please find what is the minimum total charges for Los Angeles city. Please find which zip code has the maximum total charges."
   ]
  },
  {
   "cell_type": "code",
   "execution_count": 241,
   "metadata": {},
   "outputs": [
    {
     "data": {
      "text/plain": [
       "TotalCharges  min      18.80\n",
       "              max    8375.05\n",
       "Name: Los Angeles, dtype: float64"
      ]
     },
     "execution_count": 241,
     "metadata": {},
     "output_type": "execute_result"
    }
   ],
   "source": [
    "result1 = df.groupby('City').agg({'TotalCharges': ['min', 'max']}) # grouping City values with Total Charges\n",
    "result1.loc['Los Angeles']  # Locating los angeles in our grouped variable"
   ]
  },
  {
   "cell_type": "markdown",
   "metadata": {},
   "source": [
    "- Minimum total charges for Los Angeles is - 18.80"
   ]
  },
  {
   "cell_type": "code",
   "execution_count": 242,
   "metadata": {},
   "outputs": [
    {
     "data": {
      "text/plain": [
       "ZipCode\n",
       "95519.0    8684.80\n",
       "95461.0    8672.45\n",
       "90822.0    8670.10\n",
       "92230.0    8594.40\n",
       "92614.0    8564.75\n",
       "            ...   \n",
       "92305.0     346.45\n",
       "96161.0     305.55\n",
       "95551.0     279.30\n",
       "94520.0     256.60\n",
       "96110.0      81.70\n",
       "Name: (TotalCharges, max), Length: 1652, dtype: float64"
      ]
     },
     "execution_count": 242,
     "metadata": {},
     "output_type": "execute_result"
    }
   ],
   "source": [
    "result2 = df.groupby('ZipCode').agg({'TotalCharges': ['max']}) # grouping ZipCodes values with Total Charges\n",
    "result2[max].sort_values(ascending=False) # sorting zip codes on max values "
   ]
  },
  {
   "cell_type": "markdown",
   "metadata": {},
   "source": [
    "- Maximum total charges is for this zip code 95519 - 8684.80"
   ]
  },
  {
   "cell_type": "markdown",
   "metadata": {},
   "source": [
    "#### Q8: Please find which payment method has the highest churn score and which has the lowest churn score."
   ]
  },
  {
   "cell_type": "code",
   "execution_count": 243,
   "metadata": {},
   "outputs": [
    {
     "data": {
      "image/png": "[encoded data removed]",
      "text/plain": [
       "<Figure size 720x432 with 1 Axes>"
      ]
     },
     "metadata": {
      "needs_background": "light"
     },
     "output_type": "display_data"
    }
   ],
   "source": [
    "plt.figure(figsize=(10,6)) # giving figure size\n",
    "sns.barplot(data=df, y='ChurnScore', x='PaymentMethod') # configuring our bar chart\n",
    "plt.xlabel('Payment Method', fontsize = 12) # giving x-axis title and its size\n",
    "plt.ylabel('Churn Score', fontsize = 12) # giving y-axis title and its size\n",
    "plt.show() # visualizing the chart"
   ]
  },
  {
   "cell_type": "markdown",
   "metadata": {},
   "source": [
    "- Electronic Check has highest score \n",
    "- Credit Card has lowest score"
   ]
  },
  {
   "cell_type": "markdown",
   "metadata": {},
   "source": [
    "#### Q9: Please create an appropriate plot to check the count of payment methods and explain it."
   ]
  },
  {
   "cell_type": "code",
   "execution_count": 244,
   "metadata": {},
   "outputs": [
    {
     "data": {
      "text/plain": [
       "Electronic check             2365\n",
       "Mailed check                 1604\n",
       "Bank transfer (automatic)    1542\n",
       "Credit card (automatic)      1521\n",
       "Name: PaymentMethod, dtype: int64"
      ]
     },
     "execution_count": 244,
     "metadata": {},
     "output_type": "execute_result"
    }
   ],
   "source": [
    "df['PaymentMethod'].value_counts() #checking for count and type of entries we have in Payment Method"
   ]
  },
  {
   "cell_type": "code",
   "execution_count": 245,
   "metadata": {},
   "outputs": [
    {
     "data": {
      "image/png": "[encoded data removed]",
      "text/plain": [
       "<Figure size 720x432 with 1 Axes>"
      ]
     },
     "metadata": {
      "needs_background": "light"
     },
     "output_type": "display_data"
    }
   ],
   "source": [
    "plt.figure(figsize=(10,6)) # giving figure size\n",
    "sns.countplot(data=df, x = 'PaymentMethod') # configuring our count chart\n",
    "plt.title('Distribution of Payment Method',fontsize= 15) # giving title and its size\n",
    "plt.xlabel('Payment Method', fontsize = 12) # giving x-axis title and its size\n",
    "plt.ylabel('Count', fontsize = 12) # giving y-axis title and its size\n",
    "plt.show() # visualizing the chart"
   ]
  },
  {
   "cell_type": "markdown",
   "metadata": {},
   "source": [
    "- Electronic check has highest number of counts - 2365\n",
    "- followed by Mailed Check - 1604 and Bank Transfer - 1542\n",
    "- least number of count has Credit Card - 1521"
   ]
  },
  {
   "cell_type": "markdown",
   "metadata": {},
   "source": [
    "#### Q10: Please create an appropriate plot to see the relationship between monthly charges and total charges."
   ]
  },
  {
   "cell_type": "code",
   "execution_count": 246,
   "metadata": {},
   "outputs": [
    {
     "data": {
      "image/png": "[encoded data removed]",
      "text/plain": [
       "<Figure size 720x432 with 1 Axes>"
      ]
     },
     "metadata": {
      "needs_background": "light"
     },
     "output_type": "display_data"
    }
   ],
   "source": [
    "plt.figure(figsize=(10,6)) # giving figure size\n",
    "sns.scatterplot(data=df, x='MonthlyCharges', y='TotalCharges')  # configuring our scatter chart\n",
    "plt.title('Distribution of Monthly Charges on Gender',fontsize = 15)  # giving title and its size\n",
    "plt.xlabel('Monthly Charges', fontsize = 12) # giving x-axis title and its size\n",
    "plt.ylabel('Total Charges', fontsize = 12) # giving y-axis title and its size\n",
    "plt.show() # visualizing the chart"
   ]
  },
  {
   "cell_type": "code",
   "execution_count": 247,
   "metadata": {},
   "outputs": [
    {
     "data": {
      "text/html": [
       "<div>\n",
       "<style scoped>\n",
       "    .dataframe tbody tr th:only-of-type {\n",
       "        vertical-align: middle;\n",
       "    }\n",
       "\n",
       "    .dataframe tbody tr th {\n",
       "        vertical-align: top;\n",
       "    }\n",
       "\n",
       "    .dataframe thead th {\n",
       "        text-align: right;\n",
       "    }\n",
       "</style>\n",
       "<table border=\"1\" class=\"dataframe\">\n",
       "  <thead>\n",
       "    <tr style=\"text-align: right;\">\n",
       "      <th></th>\n",
       "      <th>MonthlyCharges</th>\n",
       "      <th>TotalCharges</th>\n",
       "    </tr>\n",
       "  </thead>\n",
       "  <tbody>\n",
       "    <tr>\n",
       "      <th>MonthlyCharges</th>\n",
       "      <td>1.00</td>\n",
       "      <td>0.65</td>\n",
       "    </tr>\n",
       "    <tr>\n",
       "      <th>TotalCharges</th>\n",
       "      <td>0.65</td>\n",
       "      <td>1.00</td>\n",
       "    </tr>\n",
       "  </tbody>\n",
       "</table>\n",
       "</div>"
      ],
      "text/plain": [
       "                MonthlyCharges  TotalCharges\n",
       "MonthlyCharges            1.00          0.65\n",
       "TotalCharges              0.65          1.00"
      ]
     },
     "execution_count": 247,
     "metadata": {},
     "output_type": "execute_result"
    }
   ],
   "source": [
    "round(df[['MonthlyCharges','TotalCharges']].corr(),2)"
   ]
  },
  {
   "cell_type": "markdown",
   "metadata": {},
   "source": [
    "- here in scatter plot as monthly charges increases total charges increases\n",
    "- they show correlation value of 0.65 which means they are correlated"
   ]
  }
 ],
 "metadata": {
  "interpreter": {
   "hash": "780e223e49c598b4aa82d8318c6f1e6744c8b409488091a69e61e480bdf1c54b"
  },
  "kernelspec": {
   "display_name": "Python 3 (ipykernel)",
   "language": "python",
   "name": "python3"
  },
  "language_info": {
   "codemirror_mode": {
    "name": "ipython",
    "version": 3
   },
   "file_extension": ".py",
   "mimetype": "text/x-python",
   "name": "python",
   "nbconvert_exporter": "python",
   "pygments_lexer": "ipython3",
   "version": "3.8.13"
  }
 },
 "nbformat": 4,
 "nbformat_minor": 2
}
