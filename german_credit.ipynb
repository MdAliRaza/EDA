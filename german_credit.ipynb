{
 "cells": [
  {
   "cell_type": "markdown",
   "id": "4cd1e237",
   "metadata": {
    "papermill": {
     "duration": 0.02001,
     "end_time": "2022-06-25T21:55:50.748796",
     "exception": false,
     "start_time": "2022-06-25T21:55:50.728786",
     "status": "completed"
    },
    "tags": []
   },
   "source": [
    "## The dataset is based on the “Statlog Dataset” from the UCI Machine Learning Repository\n",
    "\n",
    "### **Intoduction**\n",
    "\n",
    "Description of variables:\n",
    "\n",
    "| **Variable Name** | **Info about Variable** |\n",
    "| - | - |\n",
    "| Age | (numeric) |\n",
    "| Sex | (text: male, female) |\n",
    "| Job | (numeric: 0 - unskilled and non-resident, 1 - unskilled and resident, 2 - skilled, 3 - highly skilled) |\n",
    "| Housing | (text: own, rent, or free) |\n",
    "| Saving accounts | (text - little, moderate, quite rich, rich) |\n",
    "| Checking account | (text - little, moderate, rich) |\n",
    "| Credit amount | (numeric, in Deutsche Mark) |\n",
    "| Duration | (numeric, in month) |\n",
    "| Purpose | (text: car, furniture/equipment, radio/TV, domestic appliances, repairs, education, business, vacation/others |\n"
   ]
  },
  {
   "cell_type": "code",
   "execution_count": 1,
   "id": "76e99bfe",
   "metadata": {
    "execution": {
     "iopub.execute_input": "2022-06-25T21:55:50.789531Z",
     "iopub.status.busy": "2022-06-25T21:55:50.789033Z",
     "iopub.status.idle": "2022-06-25T21:55:52.174959Z",
     "shell.execute_reply": "2022-06-25T21:55:52.173352Z"
    },
    "papermill": {
     "duration": 1.409273,
     "end_time": "2022-06-25T21:55:52.177899",
     "exception": false,
     "start_time": "2022-06-25T21:55:50.768626",
     "status": "completed"
    },
    "tags": []
   },
   "outputs": [],
   "source": [
    "# importing required libraries\n",
    "import numpy as np\n",
    "import pandas as pd\n",
    "import matplotlib.pyplot as plt\n",
    "import seaborn as sns\n",
    "import missingno as msno"
   ]
  },
  {
   "cell_type": "markdown",
   "id": "832affd2",
   "metadata": {
    "papermill": {
     "duration": 0.020453,
     "end_time": "2022-06-25T21:55:52.217555",
     "exception": false,
     "start_time": "2022-06-25T21:55:52.197102",
     "status": "completed"
    },
    "tags": []
   },
   "source": [
    "### **Loading the dataset**\n",
    "**Dimensions of the dataframe**"
   ]
  },
  {
   "cell_type": "code",
   "execution_count": 2,
   "id": "cbface13",
   "metadata": {
    "execution": {
     "iopub.execute_input": "2022-06-25T21:55:52.257670Z",
     "iopub.status.busy": "2022-06-25T21:55:52.257309Z",
     "iopub.status.idle": "2022-06-25T21:55:52.275109Z",
     "shell.execute_reply": "2022-06-25T21:55:52.274303Z"
    },
    "papermill": {
     "duration": 0.041023,
     "end_time": "2022-06-25T21:55:52.277573",
     "exception": false,
     "start_time": "2022-06-25T21:55:52.236550",
     "status": "completed"
    },
    "tags": []
   },
   "outputs": [],
   "source": [
    "# loading dataset \n",
    "df = pd.read_csv(r'../input/mdaliraza-datasets/german_credit_data.csv')"
   ]
  },
  {
   "cell_type": "code",
   "execution_count": 3,
   "id": "f8b2bb6d",
   "metadata": {
    "execution": {
     "iopub.execute_input": "2022-06-25T21:55:52.318089Z",
     "iopub.status.busy": "2022-06-25T21:55:52.317433Z",
     "iopub.status.idle": "2022-06-25T21:55:52.326114Z",
     "shell.execute_reply": "2022-06-25T21:55:52.325154Z"
    },
    "papermill": {
     "duration": 0.031711,
     "end_time": "2022-06-25T21:55:52.328536",
     "exception": false,
     "start_time": "2022-06-25T21:55:52.296825",
     "status": "completed"
    },
    "tags": []
   },
   "outputs": [
    {
     "data": {
      "text/plain": [
       "(1000, 10)"
      ]
     },
     "execution_count": 3,
     "metadata": {},
     "output_type": "execute_result"
    }
   ],
   "source": [
    "# to check how many rows and columns data has\n",
    "df.shape "
   ]
  },
  {
   "cell_type": "code",
   "execution_count": 4,
   "id": "2f4b10b9",
   "metadata": {
    "execution": {
     "iopub.execute_input": "2022-06-25T21:55:52.369635Z",
     "iopub.status.busy": "2022-06-25T21:55:52.368976Z",
     "iopub.status.idle": "2022-06-25T21:55:52.375078Z",
     "shell.execute_reply": "2022-06-25T21:55:52.374039Z"
    },
    "papermill": {
     "duration": 0.029109,
     "end_time": "2022-06-25T21:55:52.377432",
     "exception": false,
     "start_time": "2022-06-25T21:55:52.348323",
     "status": "completed"
    },
    "tags": []
   },
   "outputs": [
    {
     "name": "stdout",
     "output_type": "stream",
     "text": [
      "Number of observations    :  1000\n",
      "Number of variables       :  10\n"
     ]
    }
   ],
   "source": [
    "print('Number of observations    : ', df.shape[0]) # number of rows in dataset\n",
    "print('Number of variables       : ', df.shape[1]) # number of columns in dataset"
   ]
  },
  {
   "cell_type": "markdown",
   "id": "d7df0a3b",
   "metadata": {
    "papermill": {
     "duration": 0.019555,
     "end_time": "2022-06-25T21:55:52.416404",
     "exception": false,
     "start_time": "2022-06-25T21:55:52.396849",
     "status": "completed"
    },
    "tags": []
   },
   "source": [
    "**Information about the schema**"
   ]
  },
  {
   "cell_type": "code",
   "execution_count": 5,
   "id": "aea01735",
   "metadata": {
    "execution": {
     "iopub.execute_input": "2022-06-25T21:55:52.458396Z",
     "iopub.status.busy": "2022-06-25T21:55:52.457364Z",
     "iopub.status.idle": "2022-06-25T21:55:52.484683Z",
     "shell.execute_reply": "2022-06-25T21:55:52.483895Z"
    },
    "papermill": {
     "duration": 0.050333,
     "end_time": "2022-06-25T21:55:52.486714",
     "exception": false,
     "start_time": "2022-06-25T21:55:52.436381",
     "status": "completed"
    },
    "tags": []
   },
   "outputs": [
    {
     "data": {
      "text/html": [
       "<div>\n",
       "<style scoped>\n",
       "    .dataframe tbody tr th:only-of-type {\n",
       "        vertical-align: middle;\n",
       "    }\n",
       "\n",
       "    .dataframe tbody tr th {\n",
       "        vertical-align: top;\n",
       "    }\n",
       "\n",
       "    .dataframe thead th {\n",
       "        text-align: right;\n",
       "    }\n",
       "</style>\n",
       "<table border=\"1\" class=\"dataframe\">\n",
       "  <thead>\n",
       "    <tr style=\"text-align: right;\">\n",
       "      <th></th>\n",
       "      <th>Unnamed: 0</th>\n",
       "      <th>Age</th>\n",
       "      <th>Sex</th>\n",
       "      <th>Job</th>\n",
       "      <th>Housing</th>\n",
       "      <th>Saving accounts</th>\n",
       "      <th>Checking account</th>\n",
       "      <th>Credit amount</th>\n",
       "      <th>Duration</th>\n",
       "      <th>Purpose</th>\n",
       "    </tr>\n",
       "  </thead>\n",
       "  <tbody>\n",
       "    <tr>\n",
       "      <th>0</th>\n",
       "      <td>0</td>\n",
       "      <td>67</td>\n",
       "      <td>male</td>\n",
       "      <td>2</td>\n",
       "      <td>own</td>\n",
       "      <td>NaN</td>\n",
       "      <td>little</td>\n",
       "      <td>1169</td>\n",
       "      <td>6</td>\n",
       "      <td>radio/TV</td>\n",
       "    </tr>\n",
       "    <tr>\n",
       "      <th>1</th>\n",
       "      <td>1</td>\n",
       "      <td>22</td>\n",
       "      <td>female</td>\n",
       "      <td>2</td>\n",
       "      <td>own</td>\n",
       "      <td>little</td>\n",
       "      <td>moderate</td>\n",
       "      <td>5951</td>\n",
       "      <td>48</td>\n",
       "      <td>radio/TV</td>\n",
       "    </tr>\n",
       "    <tr>\n",
       "      <th>2</th>\n",
       "      <td>2</td>\n",
       "      <td>49</td>\n",
       "      <td>male</td>\n",
       "      <td>1</td>\n",
       "      <td>own</td>\n",
       "      <td>little</td>\n",
       "      <td>NaN</td>\n",
       "      <td>2096</td>\n",
       "      <td>12</td>\n",
       "      <td>education</td>\n",
       "    </tr>\n",
       "    <tr>\n",
       "      <th>3</th>\n",
       "      <td>3</td>\n",
       "      <td>45</td>\n",
       "      <td>male</td>\n",
       "      <td>2</td>\n",
       "      <td>free</td>\n",
       "      <td>little</td>\n",
       "      <td>little</td>\n",
       "      <td>7882</td>\n",
       "      <td>42</td>\n",
       "      <td>furniture/equipment</td>\n",
       "    </tr>\n",
       "    <tr>\n",
       "      <th>4</th>\n",
       "      <td>4</td>\n",
       "      <td>53</td>\n",
       "      <td>male</td>\n",
       "      <td>2</td>\n",
       "      <td>free</td>\n",
       "      <td>little</td>\n",
       "      <td>little</td>\n",
       "      <td>4870</td>\n",
       "      <td>24</td>\n",
       "      <td>car</td>\n",
       "    </tr>\n",
       "  </tbody>\n",
       "</table>\n",
       "</div>"
      ],
      "text/plain": [
       "   Unnamed: 0  Age     Sex  Job Housing Saving accounts Checking account  \\\n",
       "0           0   67    male    2     own             NaN           little   \n",
       "1           1   22  female    2     own          little         moderate   \n",
       "2           2   49    male    1     own          little              NaN   \n",
       "3           3   45    male    2    free          little           little   \n",
       "4           4   53    male    2    free          little           little   \n",
       "\n",
       "   Credit amount  Duration              Purpose  \n",
       "0           1169         6             radio/TV  \n",
       "1           5951        48             radio/TV  \n",
       "2           2096        12            education  \n",
       "3           7882        42  furniture/equipment  \n",
       "4           4870        24                  car  "
      ]
     },
     "execution_count": 5,
     "metadata": {},
     "output_type": "execute_result"
    }
   ],
   "source": [
    "# to show top observations\n",
    "df.head()"
   ]
  },
  {
   "cell_type": "code",
   "execution_count": 6,
   "id": "7b9df325",
   "metadata": {
    "execution": {
     "iopub.execute_input": "2022-06-25T21:55:52.529779Z",
     "iopub.status.busy": "2022-06-25T21:55:52.528918Z",
     "iopub.status.idle": "2022-06-25T21:55:52.543015Z",
     "shell.execute_reply": "2022-06-25T21:55:52.541982Z"
    },
    "papermill": {
     "duration": 0.03829,
     "end_time": "2022-06-25T21:55:52.545472",
     "exception": false,
     "start_time": "2022-06-25T21:55:52.507182",
     "status": "completed"
    },
    "tags": []
   },
   "outputs": [
    {
     "data": {
      "text/html": [
       "<div>\n",
       "<style scoped>\n",
       "    .dataframe tbody tr th:only-of-type {\n",
       "        vertical-align: middle;\n",
       "    }\n",
       "\n",
       "    .dataframe tbody tr th {\n",
       "        vertical-align: top;\n",
       "    }\n",
       "\n",
       "    .dataframe thead th {\n",
       "        text-align: right;\n",
       "    }\n",
       "</style>\n",
       "<table border=\"1\" class=\"dataframe\">\n",
       "  <thead>\n",
       "    <tr style=\"text-align: right;\">\n",
       "      <th></th>\n",
       "      <th>Unnamed: 0</th>\n",
       "      <th>Age</th>\n",
       "      <th>Sex</th>\n",
       "      <th>Job</th>\n",
       "      <th>Housing</th>\n",
       "      <th>Saving accounts</th>\n",
       "      <th>Checking account</th>\n",
       "      <th>Credit amount</th>\n",
       "      <th>Duration</th>\n",
       "      <th>Purpose</th>\n",
       "    </tr>\n",
       "  </thead>\n",
       "  <tbody>\n",
       "    <tr>\n",
       "      <th>995</th>\n",
       "      <td>995</td>\n",
       "      <td>31</td>\n",
       "      <td>female</td>\n",
       "      <td>1</td>\n",
       "      <td>own</td>\n",
       "      <td>little</td>\n",
       "      <td>NaN</td>\n",
       "      <td>1736</td>\n",
       "      <td>12</td>\n",
       "      <td>furniture/equipment</td>\n",
       "    </tr>\n",
       "    <tr>\n",
       "      <th>996</th>\n",
       "      <td>996</td>\n",
       "      <td>40</td>\n",
       "      <td>male</td>\n",
       "      <td>3</td>\n",
       "      <td>own</td>\n",
       "      <td>little</td>\n",
       "      <td>little</td>\n",
       "      <td>3857</td>\n",
       "      <td>30</td>\n",
       "      <td>car</td>\n",
       "    </tr>\n",
       "    <tr>\n",
       "      <th>997</th>\n",
       "      <td>997</td>\n",
       "      <td>38</td>\n",
       "      <td>male</td>\n",
       "      <td>2</td>\n",
       "      <td>own</td>\n",
       "      <td>little</td>\n",
       "      <td>NaN</td>\n",
       "      <td>804</td>\n",
       "      <td>12</td>\n",
       "      <td>radio/TV</td>\n",
       "    </tr>\n",
       "    <tr>\n",
       "      <th>998</th>\n",
       "      <td>998</td>\n",
       "      <td>23</td>\n",
       "      <td>male</td>\n",
       "      <td>2</td>\n",
       "      <td>free</td>\n",
       "      <td>little</td>\n",
       "      <td>little</td>\n",
       "      <td>1845</td>\n",
       "      <td>45</td>\n",
       "      <td>radio/TV</td>\n",
       "    </tr>\n",
       "    <tr>\n",
       "      <th>999</th>\n",
       "      <td>999</td>\n",
       "      <td>27</td>\n",
       "      <td>male</td>\n",
       "      <td>2</td>\n",
       "      <td>own</td>\n",
       "      <td>moderate</td>\n",
       "      <td>moderate</td>\n",
       "      <td>4576</td>\n",
       "      <td>45</td>\n",
       "      <td>car</td>\n",
       "    </tr>\n",
       "  </tbody>\n",
       "</table>\n",
       "</div>"
      ],
      "text/plain": [
       "     Unnamed: 0  Age     Sex  Job Housing Saving accounts Checking account  \\\n",
       "995         995   31  female    1     own          little              NaN   \n",
       "996         996   40    male    3     own          little           little   \n",
       "997         997   38    male    2     own          little              NaN   \n",
       "998         998   23    male    2    free          little           little   \n",
       "999         999   27    male    2     own        moderate         moderate   \n",
       "\n",
       "     Credit amount  Duration              Purpose  \n",
       "995           1736        12  furniture/equipment  \n",
       "996           3857        30                  car  \n",
       "997            804        12             radio/TV  \n",
       "998           1845        45             radio/TV  \n",
       "999           4576        45                  car  "
      ]
     },
     "execution_count": 6,
     "metadata": {},
     "output_type": "execute_result"
    }
   ],
   "source": [
    "# to show bottom observations\n",
    "df.tail()"
   ]
  },
  {
   "cell_type": "code",
   "execution_count": 7,
   "id": "f15a5f89",
   "metadata": {
    "execution": {
     "iopub.execute_input": "2022-06-25T21:55:52.588165Z",
     "iopub.status.busy": "2022-06-25T21:55:52.587838Z",
     "iopub.status.idle": "2022-06-25T21:55:52.601335Z",
     "shell.execute_reply": "2022-06-25T21:55:52.600457Z"
    },
    "papermill": {
     "duration": 0.038143,
     "end_time": "2022-06-25T21:55:52.603764",
     "exception": false,
     "start_time": "2022-06-25T21:55:52.565621",
     "status": "completed"
    },
    "tags": []
   },
   "outputs": [],
   "source": [
    "# here we have an unnamed column as an index we should remove it as pandas already provide us indexing\n",
    "df = df.drop(columns='Unnamed: 0')"
   ]
  },
  {
   "cell_type": "code",
   "execution_count": 8,
   "id": "52b65c9c",
   "metadata": {
    "execution": {
     "iopub.execute_input": "2022-06-25T21:55:52.647329Z",
     "iopub.status.busy": "2022-06-25T21:55:52.646702Z",
     "iopub.status.idle": "2022-06-25T21:55:52.654011Z",
     "shell.execute_reply": "2022-06-25T21:55:52.653279Z"
    },
    "papermill": {
     "duration": 0.032205,
     "end_time": "2022-06-25T21:55:52.656474",
     "exception": false,
     "start_time": "2022-06-25T21:55:52.624269",
     "status": "completed"
    },
    "tags": []
   },
   "outputs": [],
   "source": [
    "# renaming the columns with extra spaces so dataset can read it properly if it's wrong read\n",
    "df = df.rename(columns={\n",
    "    'Saving accounts':'Saving_accounts',\n",
    "    'Checking account':'Checking_account',\n",
    "    'Credit amount':'Credit_amount'\n",
    "})"
   ]
  },
  {
   "cell_type": "code",
   "execution_count": 9,
   "id": "5c8876d3",
   "metadata": {
    "execution": {
     "iopub.execute_input": "2022-06-25T21:55:52.698551Z",
     "iopub.status.busy": "2022-06-25T21:55:52.698189Z",
     "iopub.status.idle": "2022-06-25T21:55:52.704465Z",
     "shell.execute_reply": "2022-06-25T21:55:52.703684Z"
    },
    "papermill": {
     "duration": 0.030745,
     "end_time": "2022-06-25T21:55:52.707128",
     "exception": false,
     "start_time": "2022-06-25T21:55:52.676383",
     "status": "completed"
    },
    "tags": []
   },
   "outputs": [
    {
     "data": {
      "text/plain": [
       "Index(['Age', 'Sex', 'Job', 'Housing', 'Saving_accounts', 'Checking_account',\n",
       "       'Credit_amount', 'Duration', 'Purpose'],\n",
       "      dtype='object')"
      ]
     },
     "execution_count": 9,
     "metadata": {},
     "output_type": "execute_result"
    }
   ],
   "source": [
    "df.columns"
   ]
  },
  {
   "cell_type": "code",
   "execution_count": 10,
   "id": "96d6c4c4",
   "metadata": {
    "execution": {
     "iopub.execute_input": "2022-06-25T21:55:52.750936Z",
     "iopub.status.busy": "2022-06-25T21:55:52.750138Z",
     "iopub.status.idle": "2022-06-25T21:55:52.771424Z",
     "shell.execute_reply": "2022-06-25T21:55:52.770213Z"
    },
    "papermill": {
     "duration": 0.045351,
     "end_time": "2022-06-25T21:55:52.773776",
     "exception": false,
     "start_time": "2022-06-25T21:55:52.728425",
     "status": "completed"
    },
    "tags": []
   },
   "outputs": [
    {
     "name": "stdout",
     "output_type": "stream",
     "text": [
      "<class 'pandas.core.frame.DataFrame'>\n",
      "RangeIndex: 1000 entries, 0 to 999\n",
      "Data columns (total 9 columns):\n",
      " #   Column            Non-Null Count  Dtype \n",
      "---  ------            --------------  ----- \n",
      " 0   Age               1000 non-null   int64 \n",
      " 1   Sex               1000 non-null   object\n",
      " 2   Job               1000 non-null   int64 \n",
      " 3   Housing           1000 non-null   object\n",
      " 4   Saving_accounts   817 non-null    object\n",
      " 5   Checking_account  606 non-null    object\n",
      " 6   Credit_amount     1000 non-null   int64 \n",
      " 7   Duration          1000 non-null   int64 \n",
      " 8   Purpose           1000 non-null   object\n",
      "dtypes: int64(4), object(5)\n",
      "memory usage: 70.4+ KB\n"
     ]
    }
   ],
   "source": [
    "df.info()"
   ]
  },
  {
   "cell_type": "markdown",
   "id": "7a2223d5",
   "metadata": {
    "papermill": {
     "duration": 0.019955,
     "end_time": "2022-06-25T21:55:52.813881",
     "exception": false,
     "start_time": "2022-06-25T21:55:52.793926",
     "status": "completed"
    },
    "tags": []
   },
   "source": [
    "- we know that there are only three colus are numerical , rest are catagorical."
   ]
  },
  {
   "cell_type": "code",
   "execution_count": 11,
   "id": "e7ee74f8",
   "metadata": {
    "execution": {
     "iopub.execute_input": "2022-06-25T21:55:52.856710Z",
     "iopub.status.busy": "2022-06-25T21:55:52.855795Z",
     "iopub.status.idle": "2022-06-25T21:55:52.865037Z",
     "shell.execute_reply": "2022-06-25T21:55:52.863692Z"
    },
    "papermill": {
     "duration": 0.032849,
     "end_time": "2022-06-25T21:55:52.867411",
     "exception": false,
     "start_time": "2022-06-25T21:55:52.834562",
     "status": "completed"
    },
    "tags": []
   },
   "outputs": [],
   "source": [
    "df = df.astype({\"Sex\":'category',\n",
    "                \"Job\":'category',\n",
    "                \"Housing\":'category',\n",
    "                \"Saving_accounts\":'category',\n",
    "                \"Checking_account\":'category',\n",
    "                \"Purpose\":'category'})"
   ]
  },
  {
   "cell_type": "code",
   "execution_count": 12,
   "id": "5af261bc",
   "metadata": {
    "execution": {
     "iopub.execute_input": "2022-06-25T21:55:52.909761Z",
     "iopub.status.busy": "2022-06-25T21:55:52.909455Z",
     "iopub.status.idle": "2022-06-25T21:55:52.923552Z",
     "shell.execute_reply": "2022-06-25T21:55:52.922554Z"
    },
    "papermill": {
     "duration": 0.037535,
     "end_time": "2022-06-25T21:55:52.925736",
     "exception": false,
     "start_time": "2022-06-25T21:55:52.888201",
     "status": "completed"
    },
    "tags": []
   },
   "outputs": [
    {
     "name": "stdout",
     "output_type": "stream",
     "text": [
      "<class 'pandas.core.frame.DataFrame'>\n",
      "RangeIndex: 1000 entries, 0 to 999\n",
      "Data columns (total 9 columns):\n",
      " #   Column            Non-Null Count  Dtype   \n",
      "---  ------            --------------  -----   \n",
      " 0   Age               1000 non-null   int64   \n",
      " 1   Sex               1000 non-null   category\n",
      " 2   Job               1000 non-null   category\n",
      " 3   Housing           1000 non-null   category\n",
      " 4   Saving_accounts   817 non-null    category\n",
      " 5   Checking_account  606 non-null    category\n",
      " 6   Credit_amount     1000 non-null   int64   \n",
      " 7   Duration          1000 non-null   int64   \n",
      " 8   Purpose           1000 non-null   category\n",
      "dtypes: category(6), int64(3)\n",
      "memory usage: 30.6 KB\n"
     ]
    }
   ],
   "source": [
    "df.info()"
   ]
  },
  {
   "cell_type": "markdown",
   "id": "db9b64c0",
   "metadata": {
    "papermill": {
     "duration": 0.019918,
     "end_time": "2022-06-25T21:55:52.965673",
     "exception": false,
     "start_time": "2022-06-25T21:55:52.945755",
     "status": "completed"
    },
    "tags": []
   },
   "source": [
    "| Column Name | Type |\n",
    "| --- | --- |\n",
    "| Age | numeric |\n",
    "| Sex | categorical |\n",
    "| Job | numeric |\n",
    "| Housing | categorical |\n",
    "| Saving accounts | categorical |\n",
    "| Checking account | categorical |\n",
    "| Credit amount | numeric |\n",
    "| Duration | numeric |\n",
    "| Purpose | categorical |\n",
    "\n"
   ]
  },
  {
   "cell_type": "code",
   "execution_count": 13,
   "id": "2691ab6a",
   "metadata": {
    "execution": {
     "iopub.execute_input": "2022-06-25T21:55:53.008086Z",
     "iopub.status.busy": "2022-06-25T21:55:53.007296Z",
     "iopub.status.idle": "2022-06-25T21:55:53.015398Z",
     "shell.execute_reply": "2022-06-25T21:55:53.014463Z"
    },
    "papermill": {
     "duration": 0.031299,
     "end_time": "2022-06-25T21:55:53.017418",
     "exception": false,
     "start_time": "2022-06-25T21:55:52.986119",
     "status": "completed"
    },
    "tags": []
   },
   "outputs": [
    {
     "data": {
      "text/plain": [
       "Age                  53\n",
       "Sex                   2\n",
       "Job                   4\n",
       "Housing               3\n",
       "Saving_accounts       4\n",
       "Checking_account      3\n",
       "Credit_amount       921\n",
       "Duration             33\n",
       "Purpose               8\n",
       "dtype: int64"
      ]
     },
     "execution_count": 13,
     "metadata": {},
     "output_type": "execute_result"
    }
   ],
   "source": [
    "df.nunique()"
   ]
  },
  {
   "cell_type": "markdown",
   "id": "7e856698",
   "metadata": {
    "papermill": {
     "duration": 0.020032,
     "end_time": "2022-06-25T21:55:53.057713",
     "exception": false,
     "start_time": "2022-06-25T21:55:53.037681",
     "status": "completed"
    },
    "tags": []
   },
   "source": [
    "**Statistical metrics of each column**"
   ]
  },
  {
   "cell_type": "code",
   "execution_count": 14,
   "id": "f3fe18b3",
   "metadata": {
    "execution": {
     "iopub.execute_input": "2022-06-25T21:55:53.100903Z",
     "iopub.status.busy": "2022-06-25T21:55:53.100520Z",
     "iopub.status.idle": "2022-06-25T21:55:53.107280Z",
     "shell.execute_reply": "2022-06-25T21:55:53.106477Z"
    },
    "papermill": {
     "duration": 0.031339,
     "end_time": "2022-06-25T21:55:53.109440",
     "exception": false,
     "start_time": "2022-06-25T21:55:53.078101",
     "status": "completed"
    },
    "tags": []
   },
   "outputs": [],
   "source": [
    "cat_col = df.select_dtypes(include='category').columns"
   ]
  },
  {
   "cell_type": "code",
   "execution_count": 15,
   "id": "e8e55a00",
   "metadata": {
    "execution": {
     "iopub.execute_input": "2022-06-25T21:55:53.152703Z",
     "iopub.status.busy": "2022-06-25T21:55:53.152398Z",
     "iopub.status.idle": "2022-06-25T21:55:53.158212Z",
     "shell.execute_reply": "2022-06-25T21:55:53.157169Z"
    },
    "papermill": {
     "duration": 0.030421,
     "end_time": "2022-06-25T21:55:53.160848",
     "exception": false,
     "start_time": "2022-06-25T21:55:53.130427",
     "status": "completed"
    },
    "tags": []
   },
   "outputs": [],
   "source": [
    "num_col = df.select_dtypes(include='number').columns"
   ]
  },
  {
   "cell_type": "code",
   "execution_count": 16,
   "id": "4acfa209",
   "metadata": {
    "execution": {
     "iopub.execute_input": "2022-06-25T21:55:53.205147Z",
     "iopub.status.busy": "2022-06-25T21:55:53.204394Z",
     "iopub.status.idle": "2022-06-25T21:55:53.228859Z",
     "shell.execute_reply": "2022-06-25T21:55:53.227737Z"
    },
    "papermill": {
     "duration": 0.049434,
     "end_time": "2022-06-25T21:55:53.231294",
     "exception": false,
     "start_time": "2022-06-25T21:55:53.181860",
     "status": "completed"
    },
    "tags": []
   },
   "outputs": [
    {
     "data": {
      "text/html": [
       "<div>\n",
       "<style scoped>\n",
       "    .dataframe tbody tr th:only-of-type {\n",
       "        vertical-align: middle;\n",
       "    }\n",
       "\n",
       "    .dataframe tbody tr th {\n",
       "        vertical-align: top;\n",
       "    }\n",
       "\n",
       "    .dataframe thead th {\n",
       "        text-align: right;\n",
       "    }\n",
       "</style>\n",
       "<table border=\"1\" class=\"dataframe\">\n",
       "  <thead>\n",
       "    <tr style=\"text-align: right;\">\n",
       "      <th></th>\n",
       "      <th>Sex</th>\n",
       "      <th>Job</th>\n",
       "      <th>Housing</th>\n",
       "      <th>Saving_accounts</th>\n",
       "      <th>Checking_account</th>\n",
       "      <th>Purpose</th>\n",
       "    </tr>\n",
       "  </thead>\n",
       "  <tbody>\n",
       "    <tr>\n",
       "      <th>count</th>\n",
       "      <td>1000</td>\n",
       "      <td>1000</td>\n",
       "      <td>1000</td>\n",
       "      <td>817</td>\n",
       "      <td>606</td>\n",
       "      <td>1000</td>\n",
       "    </tr>\n",
       "    <tr>\n",
       "      <th>unique</th>\n",
       "      <td>2</td>\n",
       "      <td>4</td>\n",
       "      <td>3</td>\n",
       "      <td>4</td>\n",
       "      <td>3</td>\n",
       "      <td>8</td>\n",
       "    </tr>\n",
       "    <tr>\n",
       "      <th>top</th>\n",
       "      <td>male</td>\n",
       "      <td>2</td>\n",
       "      <td>own</td>\n",
       "      <td>little</td>\n",
       "      <td>little</td>\n",
       "      <td>car</td>\n",
       "    </tr>\n",
       "    <tr>\n",
       "      <th>freq</th>\n",
       "      <td>690</td>\n",
       "      <td>630</td>\n",
       "      <td>713</td>\n",
       "      <td>603</td>\n",
       "      <td>274</td>\n",
       "      <td>337</td>\n",
       "    </tr>\n",
       "  </tbody>\n",
       "</table>\n",
       "</div>"
      ],
      "text/plain": [
       "         Sex   Job Housing Saving_accounts Checking_account Purpose\n",
       "count   1000  1000    1000             817              606    1000\n",
       "unique     2     4       3               4                3       8\n",
       "top     male     2     own          little           little     car\n",
       "freq     690   630     713             603              274     337"
      ]
     },
     "execution_count": 16,
     "metadata": {},
     "output_type": "execute_result"
    }
   ],
   "source": [
    "# for categorical columns\n",
    "df.describe(include='category')"
   ]
  },
  {
   "cell_type": "code",
   "execution_count": 17,
   "id": "7d0322dc",
   "metadata": {
    "execution": {
     "iopub.execute_input": "2022-06-25T21:55:53.283561Z",
     "iopub.status.busy": "2022-06-25T21:55:53.282818Z",
     "iopub.status.idle": "2022-06-25T21:55:53.301143Z",
     "shell.execute_reply": "2022-06-25T21:55:53.300560Z"
    },
    "papermill": {
     "duration": 0.047209,
     "end_time": "2022-06-25T21:55:53.303538",
     "exception": false,
     "start_time": "2022-06-25T21:55:53.256329",
     "status": "completed"
    },
    "tags": []
   },
   "outputs": [
    {
     "data": {
      "text/html": [
       "<div>\n",
       "<style scoped>\n",
       "    .dataframe tbody tr th:only-of-type {\n",
       "        vertical-align: middle;\n",
       "    }\n",
       "\n",
       "    .dataframe tbody tr th {\n",
       "        vertical-align: top;\n",
       "    }\n",
       "\n",
       "    .dataframe thead th {\n",
       "        text-align: right;\n",
       "    }\n",
       "</style>\n",
       "<table border=\"1\" class=\"dataframe\">\n",
       "  <thead>\n",
       "    <tr style=\"text-align: right;\">\n",
       "      <th></th>\n",
       "      <th>Age</th>\n",
       "      <th>Credit_amount</th>\n",
       "      <th>Duration</th>\n",
       "    </tr>\n",
       "  </thead>\n",
       "  <tbody>\n",
       "    <tr>\n",
       "      <th>count</th>\n",
       "      <td>1000.000000</td>\n",
       "      <td>1000.000000</td>\n",
       "      <td>1000.000000</td>\n",
       "    </tr>\n",
       "    <tr>\n",
       "      <th>mean</th>\n",
       "      <td>35.546000</td>\n",
       "      <td>3271.258000</td>\n",
       "      <td>20.903000</td>\n",
       "    </tr>\n",
       "    <tr>\n",
       "      <th>std</th>\n",
       "      <td>11.375469</td>\n",
       "      <td>2822.736876</td>\n",
       "      <td>12.058814</td>\n",
       "    </tr>\n",
       "    <tr>\n",
       "      <th>min</th>\n",
       "      <td>19.000000</td>\n",
       "      <td>250.000000</td>\n",
       "      <td>4.000000</td>\n",
       "    </tr>\n",
       "    <tr>\n",
       "      <th>25%</th>\n",
       "      <td>27.000000</td>\n",
       "      <td>1365.500000</td>\n",
       "      <td>12.000000</td>\n",
       "    </tr>\n",
       "    <tr>\n",
       "      <th>50%</th>\n",
       "      <td>33.000000</td>\n",
       "      <td>2319.500000</td>\n",
       "      <td>18.000000</td>\n",
       "    </tr>\n",
       "    <tr>\n",
       "      <th>75%</th>\n",
       "      <td>42.000000</td>\n",
       "      <td>3972.250000</td>\n",
       "      <td>24.000000</td>\n",
       "    </tr>\n",
       "    <tr>\n",
       "      <th>max</th>\n",
       "      <td>75.000000</td>\n",
       "      <td>18424.000000</td>\n",
       "      <td>72.000000</td>\n",
       "    </tr>\n",
       "  </tbody>\n",
       "</table>\n",
       "</div>"
      ],
      "text/plain": [
       "               Age  Credit_amount     Duration\n",
       "count  1000.000000    1000.000000  1000.000000\n",
       "mean     35.546000    3271.258000    20.903000\n",
       "std      11.375469    2822.736876    12.058814\n",
       "min      19.000000     250.000000     4.000000\n",
       "25%      27.000000    1365.500000    12.000000\n",
       "50%      33.000000    2319.500000    18.000000\n",
       "75%      42.000000    3972.250000    24.000000\n",
       "max      75.000000   18424.000000    72.000000"
      ]
     },
     "execution_count": 17,
     "metadata": {},
     "output_type": "execute_result"
    }
   ],
   "source": [
    "# for numerical columns\n",
    "df.describe(include='number') "
   ]
  },
  {
   "cell_type": "code",
   "execution_count": 18,
   "id": "921e8ff6",
   "metadata": {
    "execution": {
     "iopub.execute_input": "2022-06-25T21:55:53.345143Z",
     "iopub.status.busy": "2022-06-25T21:55:53.344786Z",
     "iopub.status.idle": "2022-06-25T21:55:53.361319Z",
     "shell.execute_reply": "2022-06-25T21:55:53.360422Z"
    },
    "papermill": {
     "duration": 0.0344,
     "end_time": "2022-06-25T21:55:53.363286",
     "exception": false,
     "start_time": "2022-06-25T21:55:53.328886",
     "status": "completed"
    },
    "tags": []
   },
   "outputs": [
    {
     "data": {
      "text/html": [
       "<div>\n",
       "<style scoped>\n",
       "    .dataframe tbody tr th:only-of-type {\n",
       "        vertical-align: middle;\n",
       "    }\n",
       "\n",
       "    .dataframe tbody tr th {\n",
       "        vertical-align: top;\n",
       "    }\n",
       "\n",
       "    .dataframe thead th {\n",
       "        text-align: right;\n",
       "    }\n",
       "</style>\n",
       "<table border=\"1\" class=\"dataframe\">\n",
       "  <thead>\n",
       "    <tr style=\"text-align: right;\">\n",
       "      <th></th>\n",
       "      <th>Age</th>\n",
       "      <th>Sex</th>\n",
       "      <th>Job</th>\n",
       "      <th>Housing</th>\n",
       "      <th>Saving_accounts</th>\n",
       "      <th>Checking_account</th>\n",
       "      <th>Credit_amount</th>\n",
       "      <th>Duration</th>\n",
       "      <th>Purpose</th>\n",
       "    </tr>\n",
       "  </thead>\n",
       "  <tbody>\n",
       "    <tr>\n",
       "      <th>0</th>\n",
       "      <td>67</td>\n",
       "      <td>male</td>\n",
       "      <td>2</td>\n",
       "      <td>own</td>\n",
       "      <td>NaN</td>\n",
       "      <td>little</td>\n",
       "      <td>1169</td>\n",
       "      <td>6</td>\n",
       "      <td>radio/TV</td>\n",
       "    </tr>\n",
       "    <tr>\n",
       "      <th>1</th>\n",
       "      <td>22</td>\n",
       "      <td>female</td>\n",
       "      <td>2</td>\n",
       "      <td>own</td>\n",
       "      <td>little</td>\n",
       "      <td>moderate</td>\n",
       "      <td>5951</td>\n",
       "      <td>48</td>\n",
       "      <td>radio/TV</td>\n",
       "    </tr>\n",
       "    <tr>\n",
       "      <th>2</th>\n",
       "      <td>49</td>\n",
       "      <td>male</td>\n",
       "      <td>1</td>\n",
       "      <td>own</td>\n",
       "      <td>little</td>\n",
       "      <td>NaN</td>\n",
       "      <td>2096</td>\n",
       "      <td>12</td>\n",
       "      <td>education</td>\n",
       "    </tr>\n",
       "    <tr>\n",
       "      <th>3</th>\n",
       "      <td>45</td>\n",
       "      <td>male</td>\n",
       "      <td>2</td>\n",
       "      <td>free</td>\n",
       "      <td>little</td>\n",
       "      <td>little</td>\n",
       "      <td>7882</td>\n",
       "      <td>42</td>\n",
       "      <td>furniture/equipment</td>\n",
       "    </tr>\n",
       "    <tr>\n",
       "      <th>4</th>\n",
       "      <td>53</td>\n",
       "      <td>male</td>\n",
       "      <td>2</td>\n",
       "      <td>free</td>\n",
       "      <td>little</td>\n",
       "      <td>little</td>\n",
       "      <td>4870</td>\n",
       "      <td>24</td>\n",
       "      <td>car</td>\n",
       "    </tr>\n",
       "  </tbody>\n",
       "</table>\n",
       "</div>"
      ],
      "text/plain": [
       "   Age     Sex Job Housing Saving_accounts Checking_account  Credit_amount  \\\n",
       "0   67    male   2     own             NaN           little           1169   \n",
       "1   22  female   2     own          little         moderate           5951   \n",
       "2   49    male   1     own          little              NaN           2096   \n",
       "3   45    male   2    free          little           little           7882   \n",
       "4   53    male   2    free          little           little           4870   \n",
       "\n",
       "   Duration              Purpose  \n",
       "0         6             radio/TV  \n",
       "1        48             radio/TV  \n",
       "2        12            education  \n",
       "3        42  furniture/equipment  \n",
       "4        24                  car  "
      ]
     },
     "execution_count": 18,
     "metadata": {},
     "output_type": "execute_result"
    }
   ],
   "source": [
    "df.head()"
   ]
  },
  {
   "cell_type": "code",
   "execution_count": 19,
   "id": "5e188134",
   "metadata": {
    "execution": {
     "iopub.execute_input": "2022-06-25T21:55:53.405081Z",
     "iopub.status.busy": "2022-06-25T21:55:53.404766Z",
     "iopub.status.idle": "2022-06-25T21:55:53.419682Z",
     "shell.execute_reply": "2022-06-25T21:55:53.418154Z"
    },
    "papermill": {
     "duration": 0.032748,
     "end_time": "2022-06-25T21:55:53.422084",
     "exception": false,
     "start_time": "2022-06-25T21:55:53.389336",
     "status": "completed"
    },
    "tags": []
   },
   "outputs": [
    {
     "name": "stdout",
     "output_type": "stream",
     "text": [
      "<class 'pandas.core.frame.DataFrame'>\n",
      "RangeIndex: 1000 entries, 0 to 999\n",
      "Data columns (total 9 columns):\n",
      " #   Column            Non-Null Count  Dtype   \n",
      "---  ------            --------------  -----   \n",
      " 0   Age               1000 non-null   int64   \n",
      " 1   Sex               1000 non-null   category\n",
      " 2   Job               1000 non-null   category\n",
      " 3   Housing           1000 non-null   category\n",
      " 4   Saving_accounts   817 non-null    category\n",
      " 5   Checking_account  606 non-null    category\n",
      " 6   Credit_amount     1000 non-null   int64   \n",
      " 7   Duration          1000 non-null   int64   \n",
      " 8   Purpose           1000 non-null   category\n",
      "dtypes: category(6), int64(3)\n",
      "memory usage: 30.6 KB\n"
     ]
    }
   ],
   "source": [
    "df.info()\n",
    "# here we will see data types of every columns\n",
    "# also if they have any null values or not"
   ]
  },
  {
   "cell_type": "markdown",
   "id": "60acd849",
   "metadata": {
    "papermill": {
     "duration": 0.014608,
     "end_time": "2022-06-25T21:55:53.451963",
     "exception": false,
     "start_time": "2022-06-25T21:55:53.437355",
     "status": "completed"
    },
    "tags": []
   },
   "source": [
    "### **Pre-processing steps only as necessary along with the reason behind doing it with suitable steps**\n"
   ]
  },
  {
   "cell_type": "markdown",
   "id": "40061884",
   "metadata": {
    "papermill": {
     "duration": 0.013376,
     "end_time": "2022-06-25T21:55:53.479215",
     "exception": false,
     "start_time": "2022-06-25T21:55:53.465839",
     "status": "completed"
    },
    "tags": []
   },
   "source": [
    "**Missing values**"
   ]
  },
  {
   "cell_type": "code",
   "execution_count": 20,
   "id": "fbb85ef5",
   "metadata": {
    "execution": {
     "iopub.execute_input": "2022-06-25T21:55:53.517417Z",
     "iopub.status.busy": "2022-06-25T21:55:53.516670Z",
     "iopub.status.idle": "2022-06-25T21:55:53.527129Z",
     "shell.execute_reply": "2022-06-25T21:55:53.526191Z"
    },
    "papermill": {
     "duration": 0.037312,
     "end_time": "2022-06-25T21:55:53.530311",
     "exception": false,
     "start_time": "2022-06-25T21:55:53.492999",
     "status": "completed"
    },
    "tags": []
   },
   "outputs": [
    {
     "data": {
      "text/plain": [
       "Age                   0\n",
       "Sex                   0\n",
       "Job                   0\n",
       "Housing               0\n",
       "Saving_accounts     183\n",
       "Checking_account    394\n",
       "Credit_amount         0\n",
       "Duration              0\n",
       "Purpose               0\n",
       "dtype: int64"
      ]
     },
     "execution_count": 20,
     "metadata": {},
     "output_type": "execute_result"
    }
   ],
   "source": [
    "# to check sum of NaN values in columns\n",
    "null_values = df.isna()\n",
    "null_values.sum()"
   ]
  },
  {
   "cell_type": "code",
   "execution_count": 21,
   "id": "a9824616",
   "metadata": {
    "execution": {
     "iopub.execute_input": "2022-06-25T21:55:53.577255Z",
     "iopub.status.busy": "2022-06-25T21:55:53.576693Z",
     "iopub.status.idle": "2022-06-25T21:55:53.586317Z",
     "shell.execute_reply": "2022-06-25T21:55:53.585269Z"
    },
    "papermill": {
     "duration": 0.037172,
     "end_time": "2022-06-25T21:55:53.588953",
     "exception": false,
     "start_time": "2022-06-25T21:55:53.551781",
     "status": "completed"
    },
    "tags": []
   },
   "outputs": [
    {
     "data": {
      "text/plain": [
       "Age                  0.0\n",
       "Sex                  0.0\n",
       "Job                  0.0\n",
       "Housing              0.0\n",
       "Saving_accounts     18.3\n",
       "Checking_account    39.4\n",
       "Credit_amount        0.0\n",
       "Duration             0.0\n",
       "Purpose              0.0\n",
       "dtype: float64"
      ]
     },
     "execution_count": 21,
     "metadata": {},
     "output_type": "execute_result"
    }
   ],
   "source": [
    "# percentage of null values \n",
    "round(null_values.mean() * 100, 2)"
   ]
  },
  {
   "cell_type": "code",
   "execution_count": 22,
   "id": "174ca3b9",
   "metadata": {
    "execution": {
     "iopub.execute_input": "2022-06-25T21:55:53.636174Z",
     "iopub.status.busy": "2022-06-25T21:55:53.635128Z",
     "iopub.status.idle": "2022-06-25T21:55:54.236795Z",
     "shell.execute_reply": "2022-06-25T21:55:54.235666Z"
    },
    "papermill": {
     "duration": 0.627488,
     "end_time": "2022-06-25T21:55:54.239493",
     "exception": false,
     "start_time": "2022-06-25T21:55:53.612005",
     "status": "completed"
    },
    "tags": []
   },
   "outputs": [
    {
     "data": {
      "image/png": "[encoded data removed]",
      "text/plain": [
       "<Figure size 1728x720 with 3 Axes>"
      ]
     },
     "metadata": {
      "needs_background": "light"
     },
     "output_type": "display_data"
    }
   ],
   "source": [
    "# to visualize missing values in columns\n",
    "msno.bar(df,color='red')\n",
    "plt.show()"
   ]
  },
  {
   "cell_type": "markdown",
   "id": "5bebfd6a",
   "metadata": {
    "papermill": {
     "duration": 0.022152,
     "end_time": "2022-06-25T21:55:54.284281",
     "exception": false,
     "start_time": "2022-06-25T21:55:54.262129",
     "status": "completed"
    },
    "tags": []
   },
   "source": [
    "- as you can see in above bar chart we have missing values in only two of the columns"
   ]
  },
  {
   "cell_type": "markdown",
   "id": "87c308c7",
   "metadata": {
    "papermill": {
     "duration": 0.022067,
     "end_time": "2022-06-25T21:55:54.328997",
     "exception": false,
     "start_time": "2022-06-25T21:55:54.306930",
     "status": "completed"
    },
    "tags": []
   },
   "source": [
    "**Erroneous/wrong values**"
   ]
  },
  {
   "cell_type": "code",
   "execution_count": 23,
   "id": "d6f7b431",
   "metadata": {
    "execution": {
     "iopub.execute_input": "2022-06-25T21:55:54.376354Z",
     "iopub.status.busy": "2022-06-25T21:55:54.375219Z",
     "iopub.status.idle": "2022-06-25T21:55:54.381895Z",
     "shell.execute_reply": "2022-06-25T21:55:54.381347Z"
    },
    "papermill": {
     "duration": 0.032331,
     "end_time": "2022-06-25T21:55:54.383920",
     "exception": false,
     "start_time": "2022-06-25T21:55:54.351589",
     "status": "completed"
    },
    "tags": []
   },
   "outputs": [
    {
     "name": "stdout",
     "output_type": "stream",
     "text": [
      "Saving_accounts  -  18.3 %\n",
      "Checking_account -  39.4 %\n"
     ]
    }
   ],
   "source": [
    "# calculating NaN percentage for Saving_ accounts and Checking_accounts columns \n",
    "saving_accounts_error = str((df.Saving_accounts.isna().sum() / df.shape[0]) * 100) + ' %'\n",
    "print('Saving_accounts  - ', saving_accounts_error)\n",
    "Checking_account_error = str((df.Checking_account.isna().sum() / df.shape[0]) * 100) + ' %'\n",
    "print('Checking_account - ', Checking_account_error)"
   ]
  },
  {
   "cell_type": "code",
   "execution_count": 24,
   "id": "54d3dab1",
   "metadata": {
    "execution": {
     "iopub.execute_input": "2022-06-25T21:55:54.430809Z",
     "iopub.status.busy": "2022-06-25T21:55:54.430301Z",
     "iopub.status.idle": "2022-06-25T21:55:54.773996Z",
     "shell.execute_reply": "2022-06-25T21:55:54.773027Z"
    },
    "papermill": {
     "duration": 0.370033,
     "end_time": "2022-06-25T21:55:54.776413",
     "exception": false,
     "start_time": "2022-06-25T21:55:54.406380",
     "status": "completed"
    },
    "tags": []
   },
   "outputs": [
    {
     "data": {
      "image/png": "[encoded data removed]",
      "text/plain": [
       "<Figure size 1800x720 with 2 Axes>"
      ]
     },
     "metadata": {
      "needs_background": "light"
     },
     "output_type": "display_data"
    }
   ],
   "source": [
    "msno.matrix(df)\n",
    "plt.show()"
   ]
  },
  {
   "cell_type": "code",
   "execution_count": 25,
   "id": "92a5f733",
   "metadata": {
    "execution": {
     "iopub.execute_input": "2022-06-25T21:55:54.824829Z",
     "iopub.status.busy": "2022-06-25T21:55:54.824476Z",
     "iopub.status.idle": "2022-06-25T21:55:55.159098Z",
     "shell.execute_reply": "2022-06-25T21:55:55.158068Z"
    },
    "papermill": {
     "duration": 0.361993,
     "end_time": "2022-06-25T21:55:55.161566",
     "exception": false,
     "start_time": "2022-06-25T21:55:54.799573",
     "status": "completed"
    },
    "tags": []
   },
   "outputs": [
    {
     "data": {
      "image/png": "[encoded data removed]",
      "text/plain": [
       "<Figure size 1800x720 with 2 Axes>"
      ]
     },
     "metadata": {
      "needs_background": "light"
     },
     "output_type": "display_data"
    }
   ],
   "source": [
    "sorted_matrix = df.sort_values(['Checking_account','Saving_accounts'])\n",
    "msno.matrix(sorted_matrix)\n",
    "plt.show()"
   ]
  },
  {
   "cell_type": "markdown",
   "id": "123abc92",
   "metadata": {
    "papermill": {
     "duration": 0.023693,
     "end_time": "2022-06-25T21:55:55.211081",
     "exception": false,
     "start_time": "2022-06-25T21:55:55.187388",
     "status": "completed"
    },
    "tags": []
   },
   "source": [
    "**Skewed data**"
   ]
  },
  {
   "cell_type": "code",
   "execution_count": 26,
   "id": "f7628de7",
   "metadata": {
    "execution": {
     "iopub.execute_input": "2022-06-25T21:55:55.268601Z",
     "iopub.status.busy": "2022-06-25T21:55:55.267520Z",
     "iopub.status.idle": "2022-06-25T21:55:55.276311Z",
     "shell.execute_reply": "2022-06-25T21:55:55.275344Z"
    },
    "papermill": {
     "duration": 0.040055,
     "end_time": "2022-06-25T21:55:55.278544",
     "exception": false,
     "start_time": "2022-06-25T21:55:55.238489",
     "status": "completed"
    },
    "tags": []
   },
   "outputs": [
    {
     "data": {
      "text/plain": [
       "Age              1.02\n",
       "Credit_amount    1.95\n",
       "Duration         1.09\n",
       "dtype: float64"
      ]
     },
     "execution_count": 26,
     "metadata": {},
     "output_type": "execute_result"
    }
   ],
   "source": [
    "round(df[num_col].skew(),2)"
   ]
  },
  {
   "cell_type": "code",
   "execution_count": 27,
   "id": "b732f452",
   "metadata": {
    "execution": {
     "iopub.execute_input": "2022-06-25T21:55:55.331430Z",
     "iopub.status.busy": "2022-06-25T21:55:55.331048Z",
     "iopub.status.idle": "2022-06-25T21:55:55.463473Z",
     "shell.execute_reply": "2022-06-25T21:55:55.462432Z"
    },
    "papermill": {
     "duration": 0.161549,
     "end_time": "2022-06-25T21:55:55.465373",
     "exception": false,
     "start_time": "2022-06-25T21:55:55.303824",
     "status": "completed"
    },
    "tags": []
   },
   "outputs": [
    {
     "data": {
      "image/png": "[encoded data removed]",
      "text/plain": [
       "<Figure size 432x288 with 1 Axes>"
      ]
     },
     "metadata": {
      "needs_background": "light"
     },
     "output_type": "display_data"
    }
   ],
   "source": [
    "df[num_col].skew().plot(kind='bar',color = 'red')\n",
    "plt.show()"
   ]
  },
  {
   "cell_type": "markdown",
   "id": "e017f77d",
   "metadata": {
    "papermill": {
     "duration": 0.017763,
     "end_time": "2022-06-25T21:55:55.503659",
     "exception": false,
     "start_time": "2022-06-25T21:55:55.485896",
     "status": "completed"
    },
    "tags": []
   },
   "source": [
    "- Conclusion\n",
    "\n",
    "| **skew** | **range**| **variable** |\n",
    "| - | - | - |\n",
    "| **highly** | <-1 & >1 | Credit_amount |\n",
    "| **moderate** | (-1 to -0.5) & (o.5 to 1)| Age, Duration |\n",
    "| **symmetrical** | -0.5 to 0.5 | |"
   ]
  },
  {
   "cell_type": "markdown",
   "id": "0287506e",
   "metadata": {
    "papermill": {
     "duration": 0.016248,
     "end_time": "2022-06-25T21:55:55.537976",
     "exception": false,
     "start_time": "2022-06-25T21:55:55.521728",
     "status": "completed"
    },
    "tags": []
   },
   "source": [
    "**Outliers**"
   ]
  },
  {
   "cell_type": "code",
   "execution_count": 28,
   "id": "c52e4970",
   "metadata": {
    "execution": {
     "iopub.execute_input": "2022-06-25T21:55:55.573259Z",
     "iopub.status.busy": "2022-06-25T21:55:55.572617Z",
     "iopub.status.idle": "2022-06-25T21:55:55.767658Z",
     "shell.execute_reply": "2022-06-25T21:55:55.766543Z"
    },
    "papermill": {
     "duration": 0.215251,
     "end_time": "2022-06-25T21:55:55.769873",
     "exception": false,
     "start_time": "2022-06-25T21:55:55.554622",
     "status": "completed"
    },
    "tags": []
   },
   "outputs": [
    {
     "data": {
      "image/png": "[encoded data removed]",
      "text/plain": [
       "<Figure size 720x432 with 1 Axes>"
      ]
     },
     "metadata": {
      "needs_background": "light"
     },
     "output_type": "display_data"
    }
   ],
   "source": [
    "plt.figure(figsize=(10,6))\n",
    "sns.boxplot(x='Saving_accounts', y= 'Age', data= df)\n",
    "plt.show()"
   ]
  },
  {
   "cell_type": "code",
   "execution_count": 29,
   "id": "aa8cab1a",
   "metadata": {
    "execution": {
     "iopub.execute_input": "2022-06-25T21:55:55.806637Z",
     "iopub.status.busy": "2022-06-25T21:55:55.806195Z",
     "iopub.status.idle": "2022-06-25T21:55:55.971046Z",
     "shell.execute_reply": "2022-06-25T21:55:55.970129Z"
    },
    "papermill": {
     "duration": 0.187444,
     "end_time": "2022-06-25T21:55:55.974534",
     "exception": false,
     "start_time": "2022-06-25T21:55:55.787090",
     "status": "completed"
    },
    "tags": []
   },
   "outputs": [
    {
     "data": {
      "image/png": "[encoded data removed]",
      "text/plain": [
       "<Figure size 720x432 with 1 Axes>"
      ]
     },
     "metadata": {
      "needs_background": "light"
     },
     "output_type": "display_data"
    }
   ],
   "source": [
    "plt.figure(figsize=(10,6))\n",
    "sns.boxplot(x='Checking_account', y= 'Age', data= df)\n",
    "plt.show()"
   ]
  },
  {
   "cell_type": "markdown",
   "id": "1d42cc74",
   "metadata": {
    "papermill": {
     "duration": 0.02564,
     "end_time": "2022-06-25T21:55:56.025989",
     "exception": false,
     "start_time": "2022-06-25T21:55:56.000349",
     "status": "completed"
    },
    "tags": []
   },
   "source": [
    "### **Perform exploratory data analysis and provide key insights derived from the same backed with suitable graphs and plots. Few hints to get you started**"
   ]
  },
  {
   "cell_type": "markdown",
   "id": "8a996ff9",
   "metadata": {
    "papermill": {
     "duration": 0.027028,
     "end_time": "2022-06-25T21:55:56.078964",
     "exception": false,
     "start_time": "2022-06-25T21:55:56.051936",
     "status": "completed"
    },
    "tags": []
   },
   "source": [
    "**Distribution of numerical variables**"
   ]
  },
  {
   "cell_type": "code",
   "execution_count": 30,
   "id": "5d82b609",
   "metadata": {
    "execution": {
     "iopub.execute_input": "2022-06-25T21:55:56.134525Z",
     "iopub.status.busy": "2022-06-25T21:55:56.134100Z",
     "iopub.status.idle": "2022-06-25T21:55:56.140793Z",
     "shell.execute_reply": "2022-06-25T21:55:56.140033Z"
    },
    "papermill": {
     "duration": 0.03751,
     "end_time": "2022-06-25T21:55:56.143051",
     "exception": false,
     "start_time": "2022-06-25T21:55:56.105541",
     "status": "completed"
    },
    "tags": []
   },
   "outputs": [],
   "source": [
    "def histplot(df,var):\n",
    "    plt.figure(figsize=(10,6))\n",
    "    sns.histplot(df,x=var, color='green', kde=True)\n",
    "    plt.axvline(df[var].mean(), color='r', label='Mean')\n",
    "    plt.axvline(df[var].median(), color='b',label='Median')\n",
    "    plt.legend()"
   ]
  },
  {
   "cell_type": "code",
   "execution_count": 31,
   "id": "4a35cb39",
   "metadata": {
    "execution": {
     "iopub.execute_input": "2022-06-25T21:55:56.197629Z",
     "iopub.status.busy": "2022-06-25T21:55:56.196996Z",
     "iopub.status.idle": "2022-06-25T21:55:56.470244Z",
     "shell.execute_reply": "2022-06-25T21:55:56.469410Z"
    },
    "papermill": {
     "duration": 0.30357,
     "end_time": "2022-06-25T21:55:56.472909",
     "exception": false,
     "start_time": "2022-06-25T21:55:56.169339",
     "status": "completed"
    },
    "tags": []
   },
   "outputs": [
    {
     "data": {
      "image/png": "[encoded data removed]",
      "text/plain": [
       "<Figure size 720x432 with 1 Axes>"
      ]
     },
     "metadata": {
      "needs_background": "light"
     },
     "output_type": "display_data"
    }
   ],
   "source": [
    "histplot(df,'Age')"
   ]
  },
  {
   "cell_type": "code",
   "execution_count": 32,
   "id": "e324532e",
   "metadata": {
    "execution": {
     "iopub.execute_input": "2022-06-25T21:55:56.517547Z",
     "iopub.status.busy": "2022-06-25T21:55:56.517131Z",
     "iopub.status.idle": "2022-06-25T21:55:56.848484Z",
     "shell.execute_reply": "2022-06-25T21:55:56.847295Z"
    },
    "papermill": {
     "duration": 0.353833,
     "end_time": "2022-06-25T21:55:56.850855",
     "exception": false,
     "start_time": "2022-06-25T21:55:56.497022",
     "status": "completed"
    },
    "tags": []
   },
   "outputs": [
    {
     "data": {
      "image/png": "[encoded data removed]",
      "text/plain": [
       "<Figure size 720x432 with 1 Axes>"
      ]
     },
     "metadata": {
      "needs_background": "light"
     },
     "output_type": "display_data"
    }
   ],
   "source": [
    "histplot(df,'Credit_amount')"
   ]
  },
  {
   "cell_type": "code",
   "execution_count": 33,
   "id": "b226ae48",
   "metadata": {
    "execution": {
     "iopub.execute_input": "2022-06-25T21:55:56.906490Z",
     "iopub.status.busy": "2022-06-25T21:55:56.905768Z",
     "iopub.status.idle": "2022-06-25T21:55:57.199939Z",
     "shell.execute_reply": "2022-06-25T21:55:57.198739Z"
    },
    "papermill": {
     "duration": 0.324908,
     "end_time": "2022-06-25T21:55:57.202250",
     "exception": false,
     "start_time": "2022-06-25T21:55:56.877342",
     "status": "completed"
    },
    "tags": []
   },
   "outputs": [
    {
     "data": {
      "image/png": "[encoded data removed]",
      "text/plain": [
       "<Figure size 720x432 with 1 Axes>"
      ]
     },
     "metadata": {
      "needs_background": "light"
     },
     "output_type": "display_data"
    }
   ],
   "source": [
    "histplot(df,'Duration')"
   ]
  },
  {
   "cell_type": "markdown",
   "id": "768af24e",
   "metadata": {
    "papermill": {
     "duration": 0.027213,
     "end_time": "2022-06-25T21:55:57.256998",
     "exception": false,
     "start_time": "2022-06-25T21:55:57.229785",
     "status": "completed"
    },
    "tags": []
   },
   "source": [
    "**Distribution of categorical variables**"
   ]
  },
  {
   "cell_type": "code",
   "execution_count": 34,
   "id": "50e7217e",
   "metadata": {
    "execution": {
     "iopub.execute_input": "2022-06-25T21:55:57.312969Z",
     "iopub.status.busy": "2022-06-25T21:55:57.312382Z",
     "iopub.status.idle": "2022-06-25T21:55:57.322621Z",
     "shell.execute_reply": "2022-06-25T21:55:57.321411Z"
    },
    "papermill": {
     "duration": 0.040607,
     "end_time": "2022-06-25T21:55:57.324698",
     "exception": false,
     "start_time": "2022-06-25T21:55:57.284091",
     "status": "completed"
    },
    "tags": []
   },
   "outputs": [
    {
     "data": {
      "text/plain": [
       "Sex                 2\n",
       "Job                 4\n",
       "Housing             3\n",
       "Saving_accounts     4\n",
       "Checking_account    3\n",
       "Purpose             8\n",
       "dtype: int64"
      ]
     },
     "execution_count": 34,
     "metadata": {},
     "output_type": "execute_result"
    }
   ],
   "source": [
    "df[cat_col].nunique()"
   ]
  },
  {
   "cell_type": "markdown",
   "id": "47bc4b81",
   "metadata": {
    "papermill": {
     "duration": 0.027137,
     "end_time": "2022-06-25T21:55:57.378897",
     "exception": false,
     "start_time": "2022-06-25T21:55:57.351760",
     "status": "completed"
    },
    "tags": []
   },
   "source": [
    "- **Sex**"
   ]
  },
  {
   "cell_type": "code",
   "execution_count": 35,
   "id": "4cb86887",
   "metadata": {
    "execution": {
     "iopub.execute_input": "2022-06-25T21:55:57.435701Z",
     "iopub.status.busy": "2022-06-25T21:55:57.434661Z",
     "iopub.status.idle": "2022-06-25T21:55:57.444240Z",
     "shell.execute_reply": "2022-06-25T21:55:57.443280Z"
    },
    "papermill": {
     "duration": 0.040287,
     "end_time": "2022-06-25T21:55:57.446853",
     "exception": false,
     "start_time": "2022-06-25T21:55:57.406566",
     "status": "completed"
    },
    "tags": []
   },
   "outputs": [
    {
     "data": {
      "text/plain": [
       "male      690\n",
       "female    310\n",
       "Name: Sex, dtype: int64"
      ]
     },
     "execution_count": 35,
     "metadata": {},
     "output_type": "execute_result"
    }
   ],
   "source": [
    "df['Sex'].value_counts()"
   ]
  },
  {
   "cell_type": "code",
   "execution_count": 36,
   "id": "486a33b0",
   "metadata": {
    "execution": {
     "iopub.execute_input": "2022-06-25T21:55:57.505088Z",
     "iopub.status.busy": "2022-06-25T21:55:57.504312Z",
     "iopub.status.idle": "2022-06-25T21:55:57.760916Z",
     "shell.execute_reply": "2022-06-25T21:55:57.759173Z"
    },
    "papermill": {
     "duration": 0.288426,
     "end_time": "2022-06-25T21:55:57.763491",
     "exception": false,
     "start_time": "2022-06-25T21:55:57.475065",
     "status": "completed"
    },
    "tags": []
   },
   "outputs": [
    {
     "data": {
      "image/png": "[encoded data removed]",
      "text/plain": [
       "<Figure size 1080x432 with 2 Axes>"
      ]
     },
     "metadata": {
      "needs_background": "light"
     },
     "output_type": "display_data"
    }
   ],
   "source": [
    "fig, ax = plt.subplots(nrows = 1 , ncols = 2 , figsize = (15,6))\n",
    "# ax[0]\n",
    "df['Sex'].value_counts().plot(kind='pie', autopct = '%.2f', shadow = True, explode = (0.1,0), ax=ax[0])\n",
    "# ax[1]\n",
    "sns.countplot(x=df['Sex'], ax=ax[1])\n",
    "plt.xticks(rotation = 30)\n",
    "\n",
    "plt.subplots_adjust(wspace=0.5) # space between two plots"
   ]
  },
  {
   "cell_type": "markdown",
   "id": "dbfa46cf",
   "metadata": {
    "papermill": {
     "duration": 0.027934,
     "end_time": "2022-06-25T21:55:57.819632",
     "exception": false,
     "start_time": "2022-06-25T21:55:57.791698",
     "status": "completed"
    },
    "tags": []
   },
   "source": [
    "- **Job**"
   ]
  },
  {
   "cell_type": "code",
   "execution_count": 37,
   "id": "841ec0ec",
   "metadata": {
    "execution": {
     "iopub.execute_input": "2022-06-25T21:55:57.877286Z",
     "iopub.status.busy": "2022-06-25T21:55:57.876876Z",
     "iopub.status.idle": "2022-06-25T21:55:57.884911Z",
     "shell.execute_reply": "2022-06-25T21:55:57.883531Z"
    },
    "papermill": {
     "duration": 0.03929,
     "end_time": "2022-06-25T21:55:57.887013",
     "exception": false,
     "start_time": "2022-06-25T21:55:57.847723",
     "status": "completed"
    },
    "tags": []
   },
   "outputs": [],
   "source": [
    "df['Job'] = df['Job'].map({0:'unskilled & non_resident',\n",
    "                           1:'unskilled & resident',\n",
    "                           2:'skilled',\n",
    "                           3:'highly skilled'})"
   ]
  },
  {
   "cell_type": "code",
   "execution_count": 38,
   "id": "b81de3f2",
   "metadata": {
    "execution": {
     "iopub.execute_input": "2022-06-25T21:55:57.944216Z",
     "iopub.status.busy": "2022-06-25T21:55:57.943602Z",
     "iopub.status.idle": "2022-06-25T21:55:57.954809Z",
     "shell.execute_reply": "2022-06-25T21:55:57.953003Z"
    },
    "papermill": {
     "duration": 0.043238,
     "end_time": "2022-06-25T21:55:57.957085",
     "exception": false,
     "start_time": "2022-06-25T21:55:57.913847",
     "status": "completed"
    },
    "tags": []
   },
   "outputs": [
    {
     "data": {
      "text/plain": [
       "skilled                     630\n",
       "unskilled & resident        200\n",
       "highly skilled              148\n",
       "unskilled & non_resident     22\n",
       "Name: Job, dtype: int64"
      ]
     },
     "execution_count": 38,
     "metadata": {},
     "output_type": "execute_result"
    }
   ],
   "source": [
    "df['Job'].value_counts()"
   ]
  },
  {
   "cell_type": "code",
   "execution_count": 39,
   "id": "ae510b72",
   "metadata": {
    "execution": {
     "iopub.execute_input": "2022-06-25T21:55:58.015343Z",
     "iopub.status.busy": "2022-06-25T21:55:58.014944Z",
     "iopub.status.idle": "2022-06-25T21:55:58.295562Z",
     "shell.execute_reply": "2022-06-25T21:55:58.294176Z"
    },
    "papermill": {
     "duration": 0.312885,
     "end_time": "2022-06-25T21:55:58.298367",
     "exception": false,
     "start_time": "2022-06-25T21:55:57.985482",
     "status": "completed"
    },
    "tags": []
   },
   "outputs": [
    {
     "data": {
      "image/png": "[encoded data removed]",
      "text/plain": [
       "<Figure size 1080x432 with 2 Axes>"
      ]
     },
     "metadata": {
      "needs_background": "light"
     },
     "output_type": "display_data"
    }
   ],
   "source": [
    "fig, ax = plt.subplots(nrows = 1 , ncols = 2 , figsize = (15,6))\n",
    "# ax[0]\n",
    "df['Job'].value_counts().plot(kind='pie', autopct = '%.2f', shadow = True, explode = (0.1,0.1,0.1,0.1), ax=ax[0])\n",
    "# ax[1]\n",
    "sns.countplot(x=df['Job'], ax=ax[1])\n",
    "plt.xticks(rotation = 30)\n",
    "\n",
    "plt.subplots_adjust(wspace=0.5) # space between two plots"
   ]
  },
  {
   "cell_type": "markdown",
   "id": "7c767280",
   "metadata": {
    "papermill": {
     "duration": 0.028708,
     "end_time": "2022-06-25T21:55:58.355669",
     "exception": false,
     "start_time": "2022-06-25T21:55:58.326961",
     "status": "completed"
    },
    "tags": []
   },
   "source": [
    "- **Housing**"
   ]
  },
  {
   "cell_type": "code",
   "execution_count": 40,
   "id": "008e41b2",
   "metadata": {
    "execution": {
     "iopub.execute_input": "2022-06-25T21:55:58.417077Z",
     "iopub.status.busy": "2022-06-25T21:55:58.415116Z",
     "iopub.status.idle": "2022-06-25T21:55:58.426532Z",
     "shell.execute_reply": "2022-06-25T21:55:58.425541Z"
    },
    "papermill": {
     "duration": 0.043205,
     "end_time": "2022-06-25T21:55:58.428679",
     "exception": false,
     "start_time": "2022-06-25T21:55:58.385474",
     "status": "completed"
    },
    "tags": []
   },
   "outputs": [
    {
     "data": {
      "text/plain": [
       "own     713\n",
       "rent    179\n",
       "free    108\n",
       "Name: Housing, dtype: int64"
      ]
     },
     "execution_count": 40,
     "metadata": {},
     "output_type": "execute_result"
    }
   ],
   "source": [
    "df['Housing'].value_counts()"
   ]
  },
  {
   "cell_type": "code",
   "execution_count": 41,
   "id": "61fc81fc",
   "metadata": {
    "execution": {
     "iopub.execute_input": "2022-06-25T21:55:58.488591Z",
     "iopub.status.busy": "2022-06-25T21:55:58.488127Z",
     "iopub.status.idle": "2022-06-25T21:55:58.988555Z",
     "shell.execute_reply": "2022-06-25T21:55:58.987169Z"
    },
    "papermill": {
     "duration": 0.534067,
     "end_time": "2022-06-25T21:55:58.991536",
     "exception": false,
     "start_time": "2022-06-25T21:55:58.457469",
     "status": "completed"
    },
    "tags": []
   },
   "outputs": [
    {
     "data": {
      "image/png": "[encoded data removed]",
      "text/plain": [
       "<Figure size 1080x432 with 2 Axes>"
      ]
     },
     "metadata": {
      "needs_background": "light"
     },
     "output_type": "display_data"
    }
   ],
   "source": [
    "fig, ax = plt.subplots(nrows = 1 , ncols = 2 , figsize = (15,6))\n",
    "# ax[0]\n",
    "df['Housing'].value_counts().plot(kind='pie', autopct = '%.2f', shadow = True, explode = (0.1,0.1,0.1), ax=ax[0])\n",
    "# ax[1]\n",
    "sns.countplot(x=df['Housing'], ax=ax[1])\n",
    "plt.xticks(rotation = 30)\n",
    "\n",
    "plt.subplots_adjust(wspace=0.5) # space between two plots"
   ]
  },
  {
   "cell_type": "markdown",
   "id": "99fac153",
   "metadata": {
    "papermill": {
     "duration": 0.028319,
     "end_time": "2022-06-25T21:55:59.049678",
     "exception": false,
     "start_time": "2022-06-25T21:55:59.021359",
     "status": "completed"
    },
    "tags": []
   },
   "source": [
    "- **Saving Accounts**"
   ]
  },
  {
   "cell_type": "code",
   "execution_count": 42,
   "id": "04d22c32",
   "metadata": {
    "execution": {
     "iopub.execute_input": "2022-06-25T21:55:59.121635Z",
     "iopub.status.busy": "2022-06-25T21:55:59.120670Z",
     "iopub.status.idle": "2022-06-25T21:55:59.134929Z",
     "shell.execute_reply": "2022-06-25T21:55:59.133359Z"
    },
    "papermill": {
     "duration": 0.055381,
     "end_time": "2022-06-25T21:55:59.137575",
     "exception": false,
     "start_time": "2022-06-25T21:55:59.082194",
     "status": "completed"
    },
    "tags": []
   },
   "outputs": [
    {
     "data": {
      "text/plain": [
       "little        603\n",
       "moderate      103\n",
       "quite rich     63\n",
       "rich           48\n",
       "Name: Saving_accounts, dtype: int64"
      ]
     },
     "execution_count": 42,
     "metadata": {},
     "output_type": "execute_result"
    }
   ],
   "source": [
    "df['Saving_accounts'].value_counts()"
   ]
  },
  {
   "cell_type": "code",
   "execution_count": 43,
   "id": "394ef66e",
   "metadata": {
    "execution": {
     "iopub.execute_input": "2022-06-25T21:55:59.182049Z",
     "iopub.status.busy": "2022-06-25T21:55:59.181600Z",
     "iopub.status.idle": "2022-06-25T21:55:59.428312Z",
     "shell.execute_reply": "2022-06-25T21:55:59.427284Z"
    },
    "papermill": {
     "duration": 0.270379,
     "end_time": "2022-06-25T21:55:59.430180",
     "exception": false,
     "start_time": "2022-06-25T21:55:59.159801",
     "status": "completed"
    },
    "tags": []
   },
   "outputs": [
    {
     "data": {
      "image/png": "[encoded data removed]",
      "text/plain": [
       "<Figure size 1080x432 with 2 Axes>"
      ]
     },
     "metadata": {
      "needs_background": "light"
     },
     "output_type": "display_data"
    }
   ],
   "source": [
    "fig, ax = plt.subplots(nrows = 1 , ncols = 2 , figsize = (15,6))\n",
    "# ax[0]\n",
    "df['Saving_accounts'].value_counts().plot(kind='pie', autopct = '%.2f', shadow = True, explode = (0.1,0.1,0.1,0.1), ax=ax[0])\n",
    "# ax[1]\n",
    "sns.countplot(x=df['Saving_accounts'], ax=ax[1])\n",
    "plt.xticks(rotation = 30)\n",
    "\n",
    "plt.subplots_adjust(wspace=0.5) # space between two plots"
   ]
  },
  {
   "cell_type": "markdown",
   "id": "2326bf50",
   "metadata": {
    "papermill": {
     "duration": 0.021042,
     "end_time": "2022-06-25T21:55:59.471746",
     "exception": false,
     "start_time": "2022-06-25T21:55:59.450704",
     "status": "completed"
    },
    "tags": []
   },
   "source": [
    "- **Checking Account**"
   ]
  },
  {
   "cell_type": "code",
   "execution_count": 44,
   "id": "ea9d0315",
   "metadata": {
    "execution": {
     "iopub.execute_input": "2022-06-25T21:55:59.515467Z",
     "iopub.status.busy": "2022-06-25T21:55:59.514774Z",
     "iopub.status.idle": "2022-06-25T21:55:59.523907Z",
     "shell.execute_reply": "2022-06-25T21:55:59.523092Z"
    },
    "papermill": {
     "duration": 0.033104,
     "end_time": "2022-06-25T21:55:59.525695",
     "exception": false,
     "start_time": "2022-06-25T21:55:59.492591",
     "status": "completed"
    },
    "tags": []
   },
   "outputs": [
    {
     "data": {
      "text/plain": [
       "little      274\n",
       "moderate    269\n",
       "rich         63\n",
       "Name: Checking_account, dtype: int64"
      ]
     },
     "execution_count": 44,
     "metadata": {},
     "output_type": "execute_result"
    }
   ],
   "source": [
    "df['Checking_account'].value_counts()"
   ]
  },
  {
   "cell_type": "code",
   "execution_count": 45,
   "id": "2710d937",
   "metadata": {
    "execution": {
     "iopub.execute_input": "2022-06-25T21:55:59.570028Z",
     "iopub.status.busy": "2022-06-25T21:55:59.569263Z",
     "iopub.status.idle": "2022-06-25T21:55:59.792936Z",
     "shell.execute_reply": "2022-06-25T21:55:59.791594Z"
    },
    "papermill": {
     "duration": 0.24917,
     "end_time": "2022-06-25T21:55:59.795525",
     "exception": false,
     "start_time": "2022-06-25T21:55:59.546355",
     "status": "completed"
    },
    "tags": []
   },
   "outputs": [
    {
     "data": {
      "image/png": "[encoded data removed]",
      "text/plain": [
       "<Figure size 1080x432 with 2 Axes>"
      ]
     },
     "metadata": {
      "needs_background": "light"
     },
     "output_type": "display_data"
    }
   ],
   "source": [
    "fig, ax = plt.subplots(nrows = 1 , ncols = 2 , figsize = (15,6))\n",
    "# ax[0]\n",
    "df['Checking_account'].value_counts().plot(kind='pie', autopct = '%.2f', shadow = True, explode = (0.1,0.1,0.1), ax=ax[0])\n",
    "# ax[1]\n",
    "sns.countplot(x=df['Checking_account'], ax=ax[1])\n",
    "plt.xticks(rotation = 30)\n",
    "\n",
    "plt.subplots_adjust(wspace=0.5) # space between two plots"
   ]
  },
  {
   "cell_type": "markdown",
   "id": "2821babd",
   "metadata": {
    "papermill": {
     "duration": 0.020745,
     "end_time": "2022-06-25T21:55:59.837033",
     "exception": false,
     "start_time": "2022-06-25T21:55:59.816288",
     "status": "completed"
    },
    "tags": []
   },
   "source": [
    "**Numerical vs Categorical plots**"
   ]
  },
  {
   "cell_type": "code",
   "execution_count": null,
   "id": "565f5705",
   "metadata": {
    "papermill": {
     "duration": 0.022453,
     "end_time": "2022-06-25T21:55:59.880419",
     "exception": false,
     "start_time": "2022-06-25T21:55:59.857966",
     "status": "completed"
    },
    "tags": []
   },
   "outputs": [],
   "source": []
  },
  {
   "cell_type": "markdown",
   "id": "846d22fd",
   "metadata": {
    "papermill": {
     "duration": 0.020521,
     "end_time": "2022-06-25T21:55:59.921827",
     "exception": false,
     "start_time": "2022-06-25T21:55:59.901306",
     "status": "completed"
    },
    "tags": []
   },
   "source": [
    "**Numerical vs Numerical plots**"
   ]
  },
  {
   "cell_type": "code",
   "execution_count": null,
   "id": "a6e33708",
   "metadata": {
    "papermill": {
     "duration": 0.021179,
     "end_time": "2022-06-25T21:55:59.964278",
     "exception": false,
     "start_time": "2022-06-25T21:55:59.943099",
     "status": "completed"
    },
    "tags": []
   },
   "outputs": [],
   "source": []
  }
 ],
 "metadata": {
  "kernelspec": {
   "display_name": "Python 3",
   "language": "python",
   "name": "python3"
  },
  "language_info": {
   "codemirror_mode": {
    "name": "ipython",
    "version": 3
   },
   "file_extension": ".py",
   "mimetype": "text/x-python",
   "name": "python",
   "nbconvert_exporter": "python",
   "pygments_lexer": "ipython3",
   "version": "3.7.12"
  },
  "papermill": {
   "default_parameters": {},
   "duration": 22.163749,
   "end_time": "2022-06-25T21:56:01.108032",
   "environment_variables": {},
   "exception": null,
   "input_path": "__notebook__.ipynb",
   "output_path": "__notebook__.ipynb",
   "parameters": {},
   "start_time": "2022-06-25T21:55:38.944283",
   "version": "2.3.4"
  }
 },
 "nbformat": 4,
 "nbformat_minor": 5
}
